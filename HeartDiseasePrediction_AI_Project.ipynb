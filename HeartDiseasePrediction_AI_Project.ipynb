{
 "cells": [
  {
   "cell_type": "markdown",
   "metadata": {},
   "source": [
    "   # Heart Disease Prediction\n",
    "\n"
   ]
  },
  {
   "cell_type": "raw",
   "metadata": {},
   "source": []
  },
  {
   "cell_type": "code",
   "execution_count": 1,
   "metadata": {},
   "outputs": [],
   "source": [
    "import pandas as pd\n",
    "import os\n",
    "from  matplotlib import pyplot as plt \n",
    "import seaborn as sns\n",
    "import numpy as np\n",
    "import itertools\n",
    "from sklearn.ensemble import RandomForestClassifier\n",
    "from sklearn.model_selection import train_test_split\n",
    "from sklearn.metrics import accuracy_score\n"
   ]
  },
  {
   "cell_type": "code",
   "execution_count": 2,
   "metadata": {
    "scrolled": false
   },
   "outputs": [
    {
     "data": {
      "text/html": [
       "<div>\n",
       "<style scoped>\n",
       "    .dataframe tbody tr th:only-of-type {\n",
       "        vertical-align: middle;\n",
       "    }\n",
       "\n",
       "    .dataframe tbody tr th {\n",
       "        vertical-align: top;\n",
       "    }\n",
       "\n",
       "    .dataframe thead th {\n",
       "        text-align: right;\n",
       "    }\n",
       "</style>\n",
       "<table border=\"1\" class=\"dataframe\">\n",
       "  <thead>\n",
       "    <tr style=\"text-align: right;\">\n",
       "      <th></th>\n",
       "      <th>id</th>\n",
       "      <th>age</th>\n",
       "      <th>gender</th>\n",
       "      <th>height</th>\n",
       "      <th>weight</th>\n",
       "      <th>ap_hi</th>\n",
       "      <th>ap_lo</th>\n",
       "      <th>cholesterol</th>\n",
       "      <th>gluc</th>\n",
       "      <th>smoke</th>\n",
       "      <th>alco</th>\n",
       "      <th>active</th>\n",
       "      <th>cardio</th>\n",
       "    </tr>\n",
       "  </thead>\n",
       "  <tbody>\n",
       "    <tr>\n",
       "      <td>0</td>\n",
       "      <td>0</td>\n",
       "      <td>18393</td>\n",
       "      <td>2</td>\n",
       "      <td>168</td>\n",
       "      <td>62.0</td>\n",
       "      <td>110</td>\n",
       "      <td>80</td>\n",
       "      <td>1</td>\n",
       "      <td>1</td>\n",
       "      <td>0</td>\n",
       "      <td>0</td>\n",
       "      <td>1</td>\n",
       "      <td>0</td>\n",
       "    </tr>\n",
       "    <tr>\n",
       "      <td>1</td>\n",
       "      <td>1</td>\n",
       "      <td>20228</td>\n",
       "      <td>1</td>\n",
       "      <td>156</td>\n",
       "      <td>85.0</td>\n",
       "      <td>140</td>\n",
       "      <td>90</td>\n",
       "      <td>3</td>\n",
       "      <td>1</td>\n",
       "      <td>0</td>\n",
       "      <td>0</td>\n",
       "      <td>1</td>\n",
       "      <td>1</td>\n",
       "    </tr>\n",
       "    <tr>\n",
       "      <td>2</td>\n",
       "      <td>2</td>\n",
       "      <td>18857</td>\n",
       "      <td>1</td>\n",
       "      <td>165</td>\n",
       "      <td>64.0</td>\n",
       "      <td>130</td>\n",
       "      <td>70</td>\n",
       "      <td>3</td>\n",
       "      <td>1</td>\n",
       "      <td>0</td>\n",
       "      <td>0</td>\n",
       "      <td>0</td>\n",
       "      <td>1</td>\n",
       "    </tr>\n",
       "    <tr>\n",
       "      <td>3</td>\n",
       "      <td>3</td>\n",
       "      <td>17623</td>\n",
       "      <td>2</td>\n",
       "      <td>169</td>\n",
       "      <td>82.0</td>\n",
       "      <td>150</td>\n",
       "      <td>100</td>\n",
       "      <td>1</td>\n",
       "      <td>1</td>\n",
       "      <td>0</td>\n",
       "      <td>0</td>\n",
       "      <td>1</td>\n",
       "      <td>1</td>\n",
       "    </tr>\n",
       "    <tr>\n",
       "      <td>4</td>\n",
       "      <td>4</td>\n",
       "      <td>17474</td>\n",
       "      <td>1</td>\n",
       "      <td>156</td>\n",
       "      <td>56.0</td>\n",
       "      <td>100</td>\n",
       "      <td>60</td>\n",
       "      <td>1</td>\n",
       "      <td>1</td>\n",
       "      <td>0</td>\n",
       "      <td>0</td>\n",
       "      <td>0</td>\n",
       "      <td>0</td>\n",
       "    </tr>\n",
       "  </tbody>\n",
       "</table>\n",
       "</div>"
      ],
      "text/plain": [
       "   id    age  gender  height  weight  ap_hi  ap_lo  cholesterol  gluc  smoke  \\\n",
       "0   0  18393       2     168    62.0    110     80            1     1      0   \n",
       "1   1  20228       1     156    85.0    140     90            3     1      0   \n",
       "2   2  18857       1     165    64.0    130     70            3     1      0   \n",
       "3   3  17623       2     169    82.0    150    100            1     1      0   \n",
       "4   4  17474       1     156    56.0    100     60            1     1      0   \n",
       "\n",
       "   alco  active  cardio  \n",
       "0     0       1       0  \n",
       "1     0       1       1  \n",
       "2     0       0       1  \n",
       "3     0       1       1  \n",
       "4     0       0       0  "
      ]
     },
     "execution_count": 2,
     "metadata": {},
     "output_type": "execute_result"
    }
   ],
   "source": [
    "df =pd.read_csv(\"cardio_train.csv\",sep=\";\")\n",
    "df.head(5)  ## 8 records are manually deleted as they are having -ve values"
   ]
  },
  {
   "cell_type": "code",
   "execution_count": 3,
   "metadata": {
    "scrolled": true
   },
   "outputs": [
    {
     "name": "stdout",
     "output_type": "stream",
     "text": [
      "<class 'pandas.core.frame.DataFrame'>\n",
      "RangeIndex: 69992 entries, 0 to 69991\n",
      "Data columns (total 13 columns):\n",
      "id             69992 non-null int64\n",
      "age            69992 non-null int64\n",
      "gender         69992 non-null int64\n",
      "height         69992 non-null int64\n",
      "weight         69992 non-null float64\n",
      "ap_hi          69992 non-null int64\n",
      "ap_lo          69992 non-null int64\n",
      "cholesterol    69992 non-null int64\n",
      "gluc           69992 non-null int64\n",
      "smoke          69992 non-null int64\n",
      "alco           69992 non-null int64\n",
      "active         69992 non-null int64\n",
      "cardio         69992 non-null int64\n",
      "dtypes: float64(1), int64(12)\n",
      "memory usage: 6.9 MB\n"
     ]
    }
   ],
   "source": [
    "df.info()"
   ]
  },
  {
   "cell_type": "markdown",
   "metadata": {},
   "source": [
    "# Cleaning the Data"
   ]
  },
  {
   "cell_type": "code",
   "execution_count": 4,
   "metadata": {},
   "outputs": [],
   "source": [
    "df.drop(\"id\",axis=1,inplace=True)"
   ]
  },
  {
   "cell_type": "code",
   "execution_count": 5,
   "metadata": {
    "scrolled": true
   },
   "outputs": [
    {
     "data": {
      "text/html": [
       "<div>\n",
       "<style scoped>\n",
       "    .dataframe tbody tr th:only-of-type {\n",
       "        vertical-align: middle;\n",
       "    }\n",
       "\n",
       "    .dataframe tbody tr th {\n",
       "        vertical-align: top;\n",
       "    }\n",
       "\n",
       "    .dataframe thead th {\n",
       "        text-align: right;\n",
       "    }\n",
       "</style>\n",
       "<table border=\"1\" class=\"dataframe\">\n",
       "  <thead>\n",
       "    <tr style=\"text-align: right;\">\n",
       "      <th></th>\n",
       "      <th>age</th>\n",
       "      <th>gender</th>\n",
       "      <th>height</th>\n",
       "      <th>weight</th>\n",
       "      <th>ap_hi</th>\n",
       "      <th>ap_lo</th>\n",
       "      <th>cholesterol</th>\n",
       "      <th>gluc</th>\n",
       "      <th>smoke</th>\n",
       "      <th>alco</th>\n",
       "      <th>active</th>\n",
       "      <th>cardio</th>\n",
       "    </tr>\n",
       "  </thead>\n",
       "  <tbody>\n",
       "    <tr>\n",
       "      <td>0</td>\n",
       "      <td>18393</td>\n",
       "      <td>2</td>\n",
       "      <td>168</td>\n",
       "      <td>62.0</td>\n",
       "      <td>110</td>\n",
       "      <td>80</td>\n",
       "      <td>1</td>\n",
       "      <td>1</td>\n",
       "      <td>0</td>\n",
       "      <td>0</td>\n",
       "      <td>1</td>\n",
       "      <td>0</td>\n",
       "    </tr>\n",
       "    <tr>\n",
       "      <td>1</td>\n",
       "      <td>20228</td>\n",
       "      <td>1</td>\n",
       "      <td>156</td>\n",
       "      <td>85.0</td>\n",
       "      <td>140</td>\n",
       "      <td>90</td>\n",
       "      <td>3</td>\n",
       "      <td>1</td>\n",
       "      <td>0</td>\n",
       "      <td>0</td>\n",
       "      <td>1</td>\n",
       "      <td>1</td>\n",
       "    </tr>\n",
       "    <tr>\n",
       "      <td>2</td>\n",
       "      <td>18857</td>\n",
       "      <td>1</td>\n",
       "      <td>165</td>\n",
       "      <td>64.0</td>\n",
       "      <td>130</td>\n",
       "      <td>70</td>\n",
       "      <td>3</td>\n",
       "      <td>1</td>\n",
       "      <td>0</td>\n",
       "      <td>0</td>\n",
       "      <td>0</td>\n",
       "      <td>1</td>\n",
       "    </tr>\n",
       "    <tr>\n",
       "      <td>3</td>\n",
       "      <td>17623</td>\n",
       "      <td>2</td>\n",
       "      <td>169</td>\n",
       "      <td>82.0</td>\n",
       "      <td>150</td>\n",
       "      <td>100</td>\n",
       "      <td>1</td>\n",
       "      <td>1</td>\n",
       "      <td>0</td>\n",
       "      <td>0</td>\n",
       "      <td>1</td>\n",
       "      <td>1</td>\n",
       "    </tr>\n",
       "    <tr>\n",
       "      <td>4</td>\n",
       "      <td>17474</td>\n",
       "      <td>1</td>\n",
       "      <td>156</td>\n",
       "      <td>56.0</td>\n",
       "      <td>100</td>\n",
       "      <td>60</td>\n",
       "      <td>1</td>\n",
       "      <td>1</td>\n",
       "      <td>0</td>\n",
       "      <td>0</td>\n",
       "      <td>0</td>\n",
       "      <td>0</td>\n",
       "    </tr>\n",
       "  </tbody>\n",
       "</table>\n",
       "</div>"
      ],
      "text/plain": [
       "     age  gender  height  weight  ap_hi  ap_lo  cholesterol  gluc  smoke  \\\n",
       "0  18393       2     168    62.0    110     80            1     1      0   \n",
       "1  20228       1     156    85.0    140     90            3     1      0   \n",
       "2  18857       1     165    64.0    130     70            3     1      0   \n",
       "3  17623       2     169    82.0    150    100            1     1      0   \n",
       "4  17474       1     156    56.0    100     60            1     1      0   \n",
       "\n",
       "   alco  active  cardio  \n",
       "0     0       1       0  \n",
       "1     0       1       1  \n",
       "2     0       0       1  \n",
       "3     0       1       1  \n",
       "4     0       0       0  "
      ]
     },
     "execution_count": 5,
     "metadata": {},
     "output_type": "execute_result"
    }
   ],
   "source": [
    "df.head(5)"
   ]
  },
  {
   "cell_type": "code",
   "execution_count": 6,
   "metadata": {},
   "outputs": [
    {
     "name": "stdout",
     "output_type": "stream",
     "text": [
      "There are 24 duplicated values in data frame\n"
     ]
    }
   ],
   "source": [
    "print(\"There are {} duplicated values in data frame\".format(df.duplicated().sum()))"
   ]
  },
  {
   "cell_type": "markdown",
   "metadata": {},
   "source": [
    "### We can drop these duplicates because they have no  effect on training of model"
   ]
  },
  {
   "cell_type": "code",
   "execution_count": 7,
   "metadata": {
    "scrolled": true
   },
   "outputs": [
    {
     "data": {
      "text/html": [
       "<div>\n",
       "<style scoped>\n",
       "    .dataframe tbody tr th:only-of-type {\n",
       "        vertical-align: middle;\n",
       "    }\n",
       "\n",
       "    .dataframe tbody tr th {\n",
       "        vertical-align: top;\n",
       "    }\n",
       "\n",
       "    .dataframe thead th {\n",
       "        text-align: right;\n",
       "    }\n",
       "</style>\n",
       "<table border=\"1\" class=\"dataframe\">\n",
       "  <thead>\n",
       "    <tr style=\"text-align: right;\">\n",
       "      <th></th>\n",
       "      <th>age</th>\n",
       "      <th>gender</th>\n",
       "      <th>height</th>\n",
       "      <th>weight</th>\n",
       "      <th>ap_hi</th>\n",
       "      <th>ap_lo</th>\n",
       "      <th>cholesterol</th>\n",
       "      <th>gluc</th>\n",
       "      <th>smoke</th>\n",
       "      <th>alco</th>\n",
       "      <th>active</th>\n",
       "      <th>cardio</th>\n",
       "    </tr>\n",
       "  </thead>\n",
       "  <tbody>\n",
       "    <tr>\n",
       "      <td>2677</td>\n",
       "      <td>22077</td>\n",
       "      <td>1</td>\n",
       "      <td>175</td>\n",
       "      <td>69.0</td>\n",
       "      <td>120</td>\n",
       "      <td>80</td>\n",
       "      <td>1</td>\n",
       "      <td>1</td>\n",
       "      <td>0</td>\n",
       "      <td>0</td>\n",
       "      <td>1</td>\n",
       "      <td>1</td>\n",
       "    </tr>\n",
       "    <tr>\n",
       "      <td>45742</td>\n",
       "      <td>22077</td>\n",
       "      <td>1</td>\n",
       "      <td>175</td>\n",
       "      <td>69.0</td>\n",
       "      <td>120</td>\n",
       "      <td>80</td>\n",
       "      <td>1</td>\n",
       "      <td>1</td>\n",
       "      <td>0</td>\n",
       "      <td>0</td>\n",
       "      <td>1</td>\n",
       "      <td>1</td>\n",
       "    </tr>\n",
       "    <tr>\n",
       "      <td>1568</td>\n",
       "      <td>21945</td>\n",
       "      <td>1</td>\n",
       "      <td>165</td>\n",
       "      <td>60.0</td>\n",
       "      <td>120</td>\n",
       "      <td>80</td>\n",
       "      <td>1</td>\n",
       "      <td>1</td>\n",
       "      <td>0</td>\n",
       "      <td>0</td>\n",
       "      <td>1</td>\n",
       "      <td>0</td>\n",
       "    </tr>\n",
       "    <tr>\n",
       "      <td>48910</td>\n",
       "      <td>21945</td>\n",
       "      <td>1</td>\n",
       "      <td>165</td>\n",
       "      <td>60.0</td>\n",
       "      <td>120</td>\n",
       "      <td>80</td>\n",
       "      <td>1</td>\n",
       "      <td>1</td>\n",
       "      <td>0</td>\n",
       "      <td>0</td>\n",
       "      <td>1</td>\n",
       "      <td>0</td>\n",
       "    </tr>\n",
       "    <tr>\n",
       "      <td>40295</td>\n",
       "      <td>21943</td>\n",
       "      <td>1</td>\n",
       "      <td>165</td>\n",
       "      <td>65.0</td>\n",
       "      <td>120</td>\n",
       "      <td>80</td>\n",
       "      <td>1</td>\n",
       "      <td>1</td>\n",
       "      <td>0</td>\n",
       "      <td>0</td>\n",
       "      <td>1</td>\n",
       "      <td>1</td>\n",
       "    </tr>\n",
       "    <tr>\n",
       "      <td>52545</td>\n",
       "      <td>21943</td>\n",
       "      <td>1</td>\n",
       "      <td>165</td>\n",
       "      <td>65.0</td>\n",
       "      <td>120</td>\n",
       "      <td>80</td>\n",
       "      <td>1</td>\n",
       "      <td>1</td>\n",
       "      <td>0</td>\n",
       "      <td>0</td>\n",
       "      <td>1</td>\n",
       "      <td>1</td>\n",
       "    </tr>\n",
       "  </tbody>\n",
       "</table>\n",
       "</div>"
      ],
      "text/plain": [
       "         age  gender  height  weight  ap_hi  ap_lo  cholesterol  gluc  smoke  \\\n",
       "2677   22077       1     175    69.0    120     80            1     1      0   \n",
       "45742  22077       1     175    69.0    120     80            1     1      0   \n",
       "1568   21945       1     165    60.0    120     80            1     1      0   \n",
       "48910  21945       1     165    60.0    120     80            1     1      0   \n",
       "40295  21943       1     165    65.0    120     80            1     1      0   \n",
       "52545  21943       1     165    65.0    120     80            1     1      0   \n",
       "\n",
       "       alco  active  cardio  \n",
       "2677      0       1       1  \n",
       "45742     0       1       1  \n",
       "1568      0       1       0  \n",
       "48910     0       1       0  \n",
       "40295     0       1       1  \n",
       "52545     0       1       1  "
      ]
     },
     "execution_count": 7,
     "metadata": {},
     "output_type": "execute_result"
    }
   ],
   "source": [
    "duplicated = df[df.duplicated(keep=False)]\n",
    "duplicatedlist = duplicated.sort_values(by=['age', \"gender\", \"height\"], ascending= False)\n",
    "duplicatedlist.head(6)"
   ]
  },
  {
   "cell_type": "code",
   "execution_count": 8,
   "metadata": {},
   "outputs": [
    {
     "name": "stdout",
     "output_type": "stream",
     "text": [
      "Now there are 0 duplicated values are in the dataframe\n"
     ]
    }
   ],
   "source": [
    "df.drop_duplicates(inplace=True)\n",
    "print(\"Now there are {} duplicated values are in the dataframe\".format(df.duplicated().sum()))"
   ]
  },
  {
   "cell_type": "code",
   "execution_count": 9,
   "metadata": {},
   "outputs": [
    {
     "data": {
      "text/plain": [
       "age            0\n",
       "gender         0\n",
       "height         0\n",
       "weight         0\n",
       "ap_hi          0\n",
       "ap_lo          0\n",
       "cholesterol    0\n",
       "gluc           0\n",
       "smoke          0\n",
       "alco           0\n",
       "active         0\n",
       "cardio         0\n",
       "dtype: int64"
      ]
     },
     "execution_count": 9,
     "metadata": {},
     "output_type": "execute_result"
    }
   ],
   "source": [
    "# Checking for missing values\n",
    "df.isnull().sum()"
   ]
  },
  {
   "cell_type": "code",
   "execution_count": 10,
   "metadata": {},
   "outputs": [
    {
     "data": {
      "text/plain": [
       "array([0, 1], dtype=int64)"
      ]
     },
     "execution_count": 10,
     "metadata": {},
     "output_type": "execute_result"
    }
   ],
   "source": [
    "df['cardio'].unique() ## Target variable is Binary \n"
   ]
  },
  {
   "cell_type": "markdown",
   "metadata": {},
   "source": [
    "### Convert age from days to years\n"
   ]
  },
  {
   "cell_type": "code",
   "execution_count": 11,
   "metadata": {},
   "outputs": [],
   "source": [
    "df['age'] =  df['age'] / 365.25"
   ]
  },
  {
   "cell_type": "code",
   "execution_count": 12,
   "metadata": {},
   "outputs": [
    {
     "data": {
      "text/html": [
       "<div>\n",
       "<style scoped>\n",
       "    .dataframe tbody tr th:only-of-type {\n",
       "        vertical-align: middle;\n",
       "    }\n",
       "\n",
       "    .dataframe tbody tr th {\n",
       "        vertical-align: top;\n",
       "    }\n",
       "\n",
       "    .dataframe thead th {\n",
       "        text-align: right;\n",
       "    }\n",
       "</style>\n",
       "<table border=\"1\" class=\"dataframe\">\n",
       "  <thead>\n",
       "    <tr style=\"text-align: right;\">\n",
       "      <th></th>\n",
       "      <th>age</th>\n",
       "      <th>gender</th>\n",
       "      <th>height</th>\n",
       "      <th>weight</th>\n",
       "      <th>ap_hi</th>\n",
       "      <th>ap_lo</th>\n",
       "      <th>cholesterol</th>\n",
       "      <th>gluc</th>\n",
       "      <th>smoke</th>\n",
       "      <th>alco</th>\n",
       "      <th>active</th>\n",
       "      <th>cardio</th>\n",
       "    </tr>\n",
       "  </thead>\n",
       "  <tbody>\n",
       "    <tr>\n",
       "      <td>0</td>\n",
       "      <td>50.357290</td>\n",
       "      <td>2</td>\n",
       "      <td>168</td>\n",
       "      <td>62.0</td>\n",
       "      <td>110</td>\n",
       "      <td>80</td>\n",
       "      <td>1</td>\n",
       "      <td>1</td>\n",
       "      <td>0</td>\n",
       "      <td>0</td>\n",
       "      <td>1</td>\n",
       "      <td>0</td>\n",
       "    </tr>\n",
       "    <tr>\n",
       "      <td>1</td>\n",
       "      <td>55.381246</td>\n",
       "      <td>1</td>\n",
       "      <td>156</td>\n",
       "      <td>85.0</td>\n",
       "      <td>140</td>\n",
       "      <td>90</td>\n",
       "      <td>3</td>\n",
       "      <td>1</td>\n",
       "      <td>0</td>\n",
       "      <td>0</td>\n",
       "      <td>1</td>\n",
       "      <td>1</td>\n",
       "    </tr>\n",
       "    <tr>\n",
       "      <td>2</td>\n",
       "      <td>51.627652</td>\n",
       "      <td>1</td>\n",
       "      <td>165</td>\n",
       "      <td>64.0</td>\n",
       "      <td>130</td>\n",
       "      <td>70</td>\n",
       "      <td>3</td>\n",
       "      <td>1</td>\n",
       "      <td>0</td>\n",
       "      <td>0</td>\n",
       "      <td>0</td>\n",
       "      <td>1</td>\n",
       "    </tr>\n",
       "    <tr>\n",
       "      <td>3</td>\n",
       "      <td>48.249144</td>\n",
       "      <td>2</td>\n",
       "      <td>169</td>\n",
       "      <td>82.0</td>\n",
       "      <td>150</td>\n",
       "      <td>100</td>\n",
       "      <td>1</td>\n",
       "      <td>1</td>\n",
       "      <td>0</td>\n",
       "      <td>0</td>\n",
       "      <td>1</td>\n",
       "      <td>1</td>\n",
       "    </tr>\n",
       "    <tr>\n",
       "      <td>4</td>\n",
       "      <td>47.841205</td>\n",
       "      <td>1</td>\n",
       "      <td>156</td>\n",
       "      <td>56.0</td>\n",
       "      <td>100</td>\n",
       "      <td>60</td>\n",
       "      <td>1</td>\n",
       "      <td>1</td>\n",
       "      <td>0</td>\n",
       "      <td>0</td>\n",
       "      <td>0</td>\n",
       "      <td>0</td>\n",
       "    </tr>\n",
       "  </tbody>\n",
       "</table>\n",
       "</div>"
      ],
      "text/plain": [
       "         age  gender  height  weight  ap_hi  ap_lo  cholesterol  gluc  smoke  \\\n",
       "0  50.357290       2     168    62.0    110     80            1     1      0   \n",
       "1  55.381246       1     156    85.0    140     90            3     1      0   \n",
       "2  51.627652       1     165    64.0    130     70            3     1      0   \n",
       "3  48.249144       2     169    82.0    150    100            1     1      0   \n",
       "4  47.841205       1     156    56.0    100     60            1     1      0   \n",
       "\n",
       "   alco  active  cardio  \n",
       "0     0       1       0  \n",
       "1     0       1       1  \n",
       "2     0       0       1  \n",
       "3     0       1       1  \n",
       "4     0       0       0  "
      ]
     },
     "execution_count": 12,
     "metadata": {},
     "output_type": "execute_result"
    }
   ],
   "source": [
    "df.head(5)"
   ]
  },
  {
   "cell_type": "code",
   "execution_count": 13,
   "metadata": {
    "scrolled": true
   },
   "outputs": [
    {
     "data": {
      "text/html": [
       "<div>\n",
       "<style scoped>\n",
       "    .dataframe tbody tr th:only-of-type {\n",
       "        vertical-align: middle;\n",
       "    }\n",
       "\n",
       "    .dataframe tbody tr th {\n",
       "        vertical-align: top;\n",
       "    }\n",
       "\n",
       "    .dataframe thead th {\n",
       "        text-align: right;\n",
       "    }\n",
       "</style>\n",
       "<table border=\"1\" class=\"dataframe\">\n",
       "  <thead>\n",
       "    <tr style=\"text-align: right;\">\n",
       "      <th></th>\n",
       "      <th>age</th>\n",
       "      <th>gender</th>\n",
       "      <th>height</th>\n",
       "      <th>weight</th>\n",
       "      <th>ap_hi</th>\n",
       "      <th>ap_lo</th>\n",
       "      <th>cholesterol</th>\n",
       "      <th>gluc</th>\n",
       "      <th>smoke</th>\n",
       "      <th>alco</th>\n",
       "      <th>active</th>\n",
       "      <th>cardio</th>\n",
       "    </tr>\n",
       "  </thead>\n",
       "  <tbody>\n",
       "    <tr>\n",
       "      <td>count</td>\n",
       "      <td>69968.000000</td>\n",
       "      <td>69968.000000</td>\n",
       "      <td>69968.000000</td>\n",
       "      <td>69968.000000</td>\n",
       "      <td>69968.000000</td>\n",
       "      <td>69968.000000</td>\n",
       "      <td>69968.000000</td>\n",
       "      <td>69968.000000</td>\n",
       "      <td>69968.000000</td>\n",
       "      <td>69968.000000</td>\n",
       "      <td>69968.000000</td>\n",
       "      <td>69968.000000</td>\n",
       "    </tr>\n",
       "    <tr>\n",
       "      <td>mean</td>\n",
       "      <td>53.303089</td>\n",
       "      <td>1.349631</td>\n",
       "      <td>164.359307</td>\n",
       "      <td>74.209314</td>\n",
       "      <td>128.847044</td>\n",
       "      <td>96.640450</td>\n",
       "      <td>1.367011</td>\n",
       "      <td>1.226561</td>\n",
       "      <td>0.088169</td>\n",
       "      <td>0.053796</td>\n",
       "      <td>0.803725</td>\n",
       "      <td>0.499771</td>\n",
       "    </tr>\n",
       "    <tr>\n",
       "      <td>std</td>\n",
       "      <td>6.754853</td>\n",
       "      <td>0.476857</td>\n",
       "      <td>8.211515</td>\n",
       "      <td>14.397180</td>\n",
       "      <td>154.025612</td>\n",
       "      <td>188.514207</td>\n",
       "      <td>0.680355</td>\n",
       "      <td>0.572381</td>\n",
       "      <td>0.283542</td>\n",
       "      <td>0.225616</td>\n",
       "      <td>0.397182</td>\n",
       "      <td>0.500004</td>\n",
       "    </tr>\n",
       "    <tr>\n",
       "      <td>min</td>\n",
       "      <td>29.563313</td>\n",
       "      <td>1.000000</td>\n",
       "      <td>55.000000</td>\n",
       "      <td>10.000000</td>\n",
       "      <td>1.000000</td>\n",
       "      <td>0.000000</td>\n",
       "      <td>1.000000</td>\n",
       "      <td>1.000000</td>\n",
       "      <td>0.000000</td>\n",
       "      <td>0.000000</td>\n",
       "      <td>0.000000</td>\n",
       "      <td>0.000000</td>\n",
       "    </tr>\n",
       "    <tr>\n",
       "      <td>25%</td>\n",
       "      <td>48.363450</td>\n",
       "      <td>1.000000</td>\n",
       "      <td>159.000000</td>\n",
       "      <td>65.000000</td>\n",
       "      <td>120.000000</td>\n",
       "      <td>80.000000</td>\n",
       "      <td>1.000000</td>\n",
       "      <td>1.000000</td>\n",
       "      <td>0.000000</td>\n",
       "      <td>0.000000</td>\n",
       "      <td>1.000000</td>\n",
       "      <td>0.000000</td>\n",
       "    </tr>\n",
       "    <tr>\n",
       "      <td>50%</td>\n",
       "      <td>53.943874</td>\n",
       "      <td>1.000000</td>\n",
       "      <td>165.000000</td>\n",
       "      <td>72.000000</td>\n",
       "      <td>120.000000</td>\n",
       "      <td>80.000000</td>\n",
       "      <td>1.000000</td>\n",
       "      <td>1.000000</td>\n",
       "      <td>0.000000</td>\n",
       "      <td>0.000000</td>\n",
       "      <td>1.000000</td>\n",
       "      <td>0.000000</td>\n",
       "    </tr>\n",
       "    <tr>\n",
       "      <td>75%</td>\n",
       "      <td>58.390144</td>\n",
       "      <td>2.000000</td>\n",
       "      <td>170.000000</td>\n",
       "      <td>82.000000</td>\n",
       "      <td>140.000000</td>\n",
       "      <td>90.000000</td>\n",
       "      <td>2.000000</td>\n",
       "      <td>1.000000</td>\n",
       "      <td>0.000000</td>\n",
       "      <td>0.000000</td>\n",
       "      <td>1.000000</td>\n",
       "      <td>1.000000</td>\n",
       "    </tr>\n",
       "    <tr>\n",
       "      <td>max</td>\n",
       "      <td>64.922656</td>\n",
       "      <td>2.000000</td>\n",
       "      <td>250.000000</td>\n",
       "      <td>200.000000</td>\n",
       "      <td>16020.000000</td>\n",
       "      <td>11000.000000</td>\n",
       "      <td>3.000000</td>\n",
       "      <td>3.000000</td>\n",
       "      <td>1.000000</td>\n",
       "      <td>1.000000</td>\n",
       "      <td>1.000000</td>\n",
       "      <td>1.000000</td>\n",
       "    </tr>\n",
       "  </tbody>\n",
       "</table>\n",
       "</div>"
      ],
      "text/plain": [
       "                age        gender        height        weight         ap_hi  \\\n",
       "count  69968.000000  69968.000000  69968.000000  69968.000000  69968.000000   \n",
       "mean      53.303089      1.349631    164.359307     74.209314    128.847044   \n",
       "std        6.754853      0.476857      8.211515     14.397180    154.025612   \n",
       "min       29.563313      1.000000     55.000000     10.000000      1.000000   \n",
       "25%       48.363450      1.000000    159.000000     65.000000    120.000000   \n",
       "50%       53.943874      1.000000    165.000000     72.000000    120.000000   \n",
       "75%       58.390144      2.000000    170.000000     82.000000    140.000000   \n",
       "max       64.922656      2.000000    250.000000    200.000000  16020.000000   \n",
       "\n",
       "              ap_lo   cholesterol          gluc         smoke          alco  \\\n",
       "count  69968.000000  69968.000000  69968.000000  69968.000000  69968.000000   \n",
       "mean      96.640450      1.367011      1.226561      0.088169      0.053796   \n",
       "std      188.514207      0.680355      0.572381      0.283542      0.225616   \n",
       "min        0.000000      1.000000      1.000000      0.000000      0.000000   \n",
       "25%       80.000000      1.000000      1.000000      0.000000      0.000000   \n",
       "50%       80.000000      1.000000      1.000000      0.000000      0.000000   \n",
       "75%       90.000000      2.000000      1.000000      0.000000      0.000000   \n",
       "max    11000.000000      3.000000      3.000000      1.000000      1.000000   \n",
       "\n",
       "             active        cardio  \n",
       "count  69968.000000  69968.000000  \n",
       "mean       0.803725      0.499771  \n",
       "std        0.397182      0.500004  \n",
       "min        0.000000      0.000000  \n",
       "25%        1.000000      0.000000  \n",
       "50%        1.000000      0.000000  \n",
       "75%        1.000000      1.000000  \n",
       "max        1.000000      1.000000  "
      ]
     },
     "execution_count": 13,
     "metadata": {},
     "output_type": "execute_result"
    }
   ],
   "source": [
    "df.describe()"
   ]
  },
  {
   "cell_type": "markdown",
   "metadata": {},
   "source": [
    "### Removing Heights & Weights,that's fall below 2.5% or above 97.5% of a given range.\n"
   ]
  },
  {
   "cell_type": "code",
   "execution_count": 14,
   "metadata": {},
   "outputs": [],
   "source": [
    "df.drop(df[(df['height'] > df['height'].quantile(0.975)) |(df['height'] < df['height'].quantile(0.025))].index,inplace=True)\n"
   ]
  },
  {
   "cell_type": "code",
   "execution_count": null,
   "metadata": {},
   "outputs": [],
   "source": []
  },
  {
   "cell_type": "code",
   "execution_count": 15,
   "metadata": {},
   "outputs": [],
   "source": [
    "df.drop(df[(df['weight'] > df['weight'].quantile(0.975)) | (df['weight'] < df['weight'].quantile(0.025))].index,inplace=True)"
   ]
  },
  {
   "cell_type": "code",
   "execution_count": null,
   "metadata": {},
   "outputs": [],
   "source": []
  },
  {
   "cell_type": "code",
   "execution_count": 16,
   "metadata": {},
   "outputs": [
    {
     "data": {
      "text/html": [
       "<div>\n",
       "<style scoped>\n",
       "    .dataframe tbody tr th:only-of-type {\n",
       "        vertical-align: middle;\n",
       "    }\n",
       "\n",
       "    .dataframe tbody tr th {\n",
       "        vertical-align: top;\n",
       "    }\n",
       "\n",
       "    .dataframe thead th {\n",
       "        text-align: right;\n",
       "    }\n",
       "</style>\n",
       "<table border=\"1\" class=\"dataframe\">\n",
       "  <thead>\n",
       "    <tr style=\"text-align: right;\">\n",
       "      <th></th>\n",
       "      <th>age</th>\n",
       "      <th>gender</th>\n",
       "      <th>height</th>\n",
       "      <th>weight</th>\n",
       "      <th>ap_hi</th>\n",
       "      <th>ap_lo</th>\n",
       "      <th>cholesterol</th>\n",
       "      <th>gluc</th>\n",
       "      <th>smoke</th>\n",
       "      <th>alco</th>\n",
       "      <th>active</th>\n",
       "      <th>cardio</th>\n",
       "    </tr>\n",
       "  </thead>\n",
       "  <tbody>\n",
       "    <tr>\n",
       "      <td>count</td>\n",
       "      <td>63835.000000</td>\n",
       "      <td>63835.000000</td>\n",
       "      <td>63835.000000</td>\n",
       "      <td>63835.000000</td>\n",
       "      <td>63835.000000</td>\n",
       "      <td>63835.000000</td>\n",
       "      <td>63835.000000</td>\n",
       "      <td>63835.000000</td>\n",
       "      <td>63835.000000</td>\n",
       "      <td>63835.000000</td>\n",
       "      <td>63835.000000</td>\n",
       "      <td>63835.000000</td>\n",
       "    </tr>\n",
       "    <tr>\n",
       "      <td>mean</td>\n",
       "      <td>53.313250</td>\n",
       "      <td>1.347881</td>\n",
       "      <td>164.498065</td>\n",
       "      <td>73.546836</td>\n",
       "      <td>128.844161</td>\n",
       "      <td>95.963719</td>\n",
       "      <td>1.359207</td>\n",
       "      <td>1.222762</td>\n",
       "      <td>0.086395</td>\n",
       "      <td>0.052902</td>\n",
       "      <td>0.803666</td>\n",
       "      <td>0.498285</td>\n",
       "    </tr>\n",
       "    <tr>\n",
       "      <td>std</td>\n",
       "      <td>6.740555</td>\n",
       "      <td>0.476302</td>\n",
       "      <td>6.863358</td>\n",
       "      <td>11.721721</td>\n",
       "      <td>161.007840</td>\n",
       "      <td>186.331094</td>\n",
       "      <td>0.674896</td>\n",
       "      <td>0.569019</td>\n",
       "      <td>0.280948</td>\n",
       "      <td>0.223840</td>\n",
       "      <td>0.397227</td>\n",
       "      <td>0.500001</td>\n",
       "    </tr>\n",
       "    <tr>\n",
       "      <td>min</td>\n",
       "      <td>29.563313</td>\n",
       "      <td>1.000000</td>\n",
       "      <td>150.000000</td>\n",
       "      <td>52.000000</td>\n",
       "      <td>1.000000</td>\n",
       "      <td>0.000000</td>\n",
       "      <td>1.000000</td>\n",
       "      <td>1.000000</td>\n",
       "      <td>0.000000</td>\n",
       "      <td>0.000000</td>\n",
       "      <td>0.000000</td>\n",
       "      <td>0.000000</td>\n",
       "    </tr>\n",
       "    <tr>\n",
       "      <td>25%</td>\n",
       "      <td>48.405202</td>\n",
       "      <td>1.000000</td>\n",
       "      <td>160.000000</td>\n",
       "      <td>65.000000</td>\n",
       "      <td>120.000000</td>\n",
       "      <td>80.000000</td>\n",
       "      <td>1.000000</td>\n",
       "      <td>1.000000</td>\n",
       "      <td>0.000000</td>\n",
       "      <td>0.000000</td>\n",
       "      <td>1.000000</td>\n",
       "      <td>0.000000</td>\n",
       "    </tr>\n",
       "    <tr>\n",
       "      <td>50%</td>\n",
       "      <td>53.949350</td>\n",
       "      <td>1.000000</td>\n",
       "      <td>165.000000</td>\n",
       "      <td>72.000000</td>\n",
       "      <td>120.000000</td>\n",
       "      <td>80.000000</td>\n",
       "      <td>1.000000</td>\n",
       "      <td>1.000000</td>\n",
       "      <td>0.000000</td>\n",
       "      <td>0.000000</td>\n",
       "      <td>1.000000</td>\n",
       "      <td>0.000000</td>\n",
       "    </tr>\n",
       "    <tr>\n",
       "      <td>75%</td>\n",
       "      <td>58.379192</td>\n",
       "      <td>2.000000</td>\n",
       "      <td>169.000000</td>\n",
       "      <td>81.000000</td>\n",
       "      <td>140.000000</td>\n",
       "      <td>90.000000</td>\n",
       "      <td>1.000000</td>\n",
       "      <td>1.000000</td>\n",
       "      <td>0.000000</td>\n",
       "      <td>0.000000</td>\n",
       "      <td>1.000000</td>\n",
       "      <td>1.000000</td>\n",
       "    </tr>\n",
       "    <tr>\n",
       "      <td>max</td>\n",
       "      <td>64.922656</td>\n",
       "      <td>2.000000</td>\n",
       "      <td>180.000000</td>\n",
       "      <td>106.000000</td>\n",
       "      <td>16020.000000</td>\n",
       "      <td>11000.000000</td>\n",
       "      <td>3.000000</td>\n",
       "      <td>3.000000</td>\n",
       "      <td>1.000000</td>\n",
       "      <td>1.000000</td>\n",
       "      <td>1.000000</td>\n",
       "      <td>1.000000</td>\n",
       "    </tr>\n",
       "  </tbody>\n",
       "</table>\n",
       "</div>"
      ],
      "text/plain": [
       "                age        gender        height        weight         ap_hi  \\\n",
       "count  63835.000000  63835.000000  63835.000000  63835.000000  63835.000000   \n",
       "mean      53.313250      1.347881    164.498065     73.546836    128.844161   \n",
       "std        6.740555      0.476302      6.863358     11.721721    161.007840   \n",
       "min       29.563313      1.000000    150.000000     52.000000      1.000000   \n",
       "25%       48.405202      1.000000    160.000000     65.000000    120.000000   \n",
       "50%       53.949350      1.000000    165.000000     72.000000    120.000000   \n",
       "75%       58.379192      2.000000    169.000000     81.000000    140.000000   \n",
       "max       64.922656      2.000000    180.000000    106.000000  16020.000000   \n",
       "\n",
       "              ap_lo   cholesterol          gluc         smoke          alco  \\\n",
       "count  63835.000000  63835.000000  63835.000000  63835.000000  63835.000000   \n",
       "mean      95.963719      1.359207      1.222762      0.086395      0.052902   \n",
       "std      186.331094      0.674896      0.569019      0.280948      0.223840   \n",
       "min        0.000000      1.000000      1.000000      0.000000      0.000000   \n",
       "25%       80.000000      1.000000      1.000000      0.000000      0.000000   \n",
       "50%       80.000000      1.000000      1.000000      0.000000      0.000000   \n",
       "75%       90.000000      1.000000      1.000000      0.000000      0.000000   \n",
       "max    11000.000000      3.000000      3.000000      1.000000      1.000000   \n",
       "\n",
       "             active        cardio  \n",
       "count  63835.000000  63835.000000  \n",
       "mean       0.803666      0.498285  \n",
       "std        0.397227      0.500001  \n",
       "min        0.000000      0.000000  \n",
       "25%        1.000000      0.000000  \n",
       "50%        1.000000      0.000000  \n",
       "75%        1.000000      1.000000  \n",
       "max        1.000000      1.000000  "
      ]
     },
     "execution_count": 16,
     "metadata": {},
     "output_type": "execute_result"
    }
   ],
   "source": [
    "df.describe()"
   ]
  },
  {
   "cell_type": "raw",
   "metadata": {},
   "source": [
    "   In some cases diastolic pressure is higher than systolic, which is also incorrect. How many such records are inaccurate in terms of blood pressure? Lets find out.\n",
    "\n"
   ]
  },
  {
   "cell_type": "code",
   "execution_count": 17,
   "metadata": {},
   "outputs": [
    {
     "name": "stdout",
     "output_type": "stream",
     "text": [
      "In dataset, Diastilic pressure 'ap_lo' is higher than systolic 'ap_hi'  in 1076 records\n"
     ]
    }
   ],
   "source": [
    "\n",
    "\n",
    "print(\"In dataset, Diastilic pressure 'ap_lo' is higher than systolic 'ap_hi'  in {0} records\".format(df[df['ap_lo']> df['ap_hi']].shape[0]))\n"
   ]
  },
  {
   "cell_type": "markdown",
   "metadata": {},
   "source": [
    "### Let's get rid of these 1076 records as we did for weights"
   ]
  },
  {
   "cell_type": "code",
   "execution_count": 18,
   "metadata": {},
   "outputs": [],
   "source": [
    "df.drop(df[(df['ap_lo'] > df['ap_lo'].quantile(0.975)) | (df['ap_lo'] < df['ap_lo'].quantile(0.025))].index,inplace=True)\n",
    "df.drop(df[(df['ap_hi'] > df['ap_hi'].quantile(0.975)) | (df['ap_hi'] < df['ap_hi'].quantile(0.025))].index,inplace=True)\n"
   ]
  },
  {
   "cell_type": "code",
   "execution_count": 19,
   "metadata": {},
   "outputs": [
    {
     "data": {
      "text/html": [
       "<div>\n",
       "<style scoped>\n",
       "    .dataframe tbody tr th:only-of-type {\n",
       "        vertical-align: middle;\n",
       "    }\n",
       "\n",
       "    .dataframe tbody tr th {\n",
       "        vertical-align: top;\n",
       "    }\n",
       "\n",
       "    .dataframe thead th {\n",
       "        text-align: right;\n",
       "    }\n",
       "</style>\n",
       "<table border=\"1\" class=\"dataframe\">\n",
       "  <thead>\n",
       "    <tr style=\"text-align: right;\">\n",
       "      <th></th>\n",
       "      <th>age</th>\n",
       "      <th>gender</th>\n",
       "      <th>height</th>\n",
       "      <th>weight</th>\n",
       "      <th>ap_hi</th>\n",
       "      <th>ap_lo</th>\n",
       "      <th>cholesterol</th>\n",
       "      <th>gluc</th>\n",
       "      <th>smoke</th>\n",
       "      <th>alco</th>\n",
       "      <th>active</th>\n",
       "      <th>cardio</th>\n",
       "    </tr>\n",
       "  </thead>\n",
       "  <tbody>\n",
       "    <tr>\n",
       "      <td>count</td>\n",
       "      <td>60108.000000</td>\n",
       "      <td>60108.000000</td>\n",
       "      <td>60108.000000</td>\n",
       "      <td>60108.000000</td>\n",
       "      <td>60108.000000</td>\n",
       "      <td>60108.000000</td>\n",
       "      <td>60108.000000</td>\n",
       "      <td>60108.000000</td>\n",
       "      <td>60108.000000</td>\n",
       "      <td>60108.000000</td>\n",
       "      <td>60108.000000</td>\n",
       "      <td>60108.000000</td>\n",
       "    </tr>\n",
       "    <tr>\n",
       "      <td>mean</td>\n",
       "      <td>53.302291</td>\n",
       "      <td>1.347391</td>\n",
       "      <td>164.555234</td>\n",
       "      <td>73.428943</td>\n",
       "      <td>125.766920</td>\n",
       "      <td>81.045635</td>\n",
       "      <td>1.351051</td>\n",
       "      <td>1.220320</td>\n",
       "      <td>0.085629</td>\n",
       "      <td>0.051890</td>\n",
       "      <td>0.803653</td>\n",
       "      <td>0.488238</td>\n",
       "    </tr>\n",
       "    <tr>\n",
       "      <td>std</td>\n",
       "      <td>6.736930</td>\n",
       "      <td>0.476145</td>\n",
       "      <td>6.831413</td>\n",
       "      <td>11.616070</td>\n",
       "      <td>13.757056</td>\n",
       "      <td>8.239341</td>\n",
       "      <td>0.670117</td>\n",
       "      <td>0.567727</td>\n",
       "      <td>0.279818</td>\n",
       "      <td>0.221807</td>\n",
       "      <td>0.397237</td>\n",
       "      <td>0.499866</td>\n",
       "    </tr>\n",
       "    <tr>\n",
       "      <td>min</td>\n",
       "      <td>29.563313</td>\n",
       "      <td>1.000000</td>\n",
       "      <td>150.000000</td>\n",
       "      <td>52.000000</td>\n",
       "      <td>100.000000</td>\n",
       "      <td>60.000000</td>\n",
       "      <td>1.000000</td>\n",
       "      <td>1.000000</td>\n",
       "      <td>0.000000</td>\n",
       "      <td>0.000000</td>\n",
       "      <td>0.000000</td>\n",
       "      <td>0.000000</td>\n",
       "    </tr>\n",
       "    <tr>\n",
       "      <td>25%</td>\n",
       "      <td>48.396988</td>\n",
       "      <td>1.000000</td>\n",
       "      <td>160.000000</td>\n",
       "      <td>65.000000</td>\n",
       "      <td>120.000000</td>\n",
       "      <td>80.000000</td>\n",
       "      <td>1.000000</td>\n",
       "      <td>1.000000</td>\n",
       "      <td>0.000000</td>\n",
       "      <td>0.000000</td>\n",
       "      <td>1.000000</td>\n",
       "      <td>0.000000</td>\n",
       "    </tr>\n",
       "    <tr>\n",
       "      <td>50%</td>\n",
       "      <td>53.949350</td>\n",
       "      <td>1.000000</td>\n",
       "      <td>165.000000</td>\n",
       "      <td>72.000000</td>\n",
       "      <td>120.000000</td>\n",
       "      <td>80.000000</td>\n",
       "      <td>1.000000</td>\n",
       "      <td>1.000000</td>\n",
       "      <td>0.000000</td>\n",
       "      <td>0.000000</td>\n",
       "      <td>1.000000</td>\n",
       "      <td>0.000000</td>\n",
       "    </tr>\n",
       "    <tr>\n",
       "      <td>75%</td>\n",
       "      <td>58.373717</td>\n",
       "      <td>2.000000</td>\n",
       "      <td>169.000000</td>\n",
       "      <td>80.000000</td>\n",
       "      <td>135.000000</td>\n",
       "      <td>90.000000</td>\n",
       "      <td>1.000000</td>\n",
       "      <td>1.000000</td>\n",
       "      <td>0.000000</td>\n",
       "      <td>0.000000</td>\n",
       "      <td>1.000000</td>\n",
       "      <td>1.000000</td>\n",
       "    </tr>\n",
       "    <tr>\n",
       "      <td>max</td>\n",
       "      <td>64.922656</td>\n",
       "      <td>2.000000</td>\n",
       "      <td>180.000000</td>\n",
       "      <td>106.000000</td>\n",
       "      <td>160.000000</td>\n",
       "      <td>100.000000</td>\n",
       "      <td>3.000000</td>\n",
       "      <td>3.000000</td>\n",
       "      <td>1.000000</td>\n",
       "      <td>1.000000</td>\n",
       "      <td>1.000000</td>\n",
       "      <td>1.000000</td>\n",
       "    </tr>\n",
       "  </tbody>\n",
       "</table>\n",
       "</div>"
      ],
      "text/plain": [
       "                age        gender        height        weight         ap_hi  \\\n",
       "count  60108.000000  60108.000000  60108.000000  60108.000000  60108.000000   \n",
       "mean      53.302291      1.347391    164.555234     73.428943    125.766920   \n",
       "std        6.736930      0.476145      6.831413     11.616070     13.757056   \n",
       "min       29.563313      1.000000    150.000000     52.000000    100.000000   \n",
       "25%       48.396988      1.000000    160.000000     65.000000    120.000000   \n",
       "50%       53.949350      1.000000    165.000000     72.000000    120.000000   \n",
       "75%       58.373717      2.000000    169.000000     80.000000    135.000000   \n",
       "max       64.922656      2.000000    180.000000    106.000000    160.000000   \n",
       "\n",
       "              ap_lo   cholesterol          gluc         smoke          alco  \\\n",
       "count  60108.000000  60108.000000  60108.000000  60108.000000  60108.000000   \n",
       "mean      81.045635      1.351051      1.220320      0.085629      0.051890   \n",
       "std        8.239341      0.670117      0.567727      0.279818      0.221807   \n",
       "min       60.000000      1.000000      1.000000      0.000000      0.000000   \n",
       "25%       80.000000      1.000000      1.000000      0.000000      0.000000   \n",
       "50%       80.000000      1.000000      1.000000      0.000000      0.000000   \n",
       "75%       90.000000      1.000000      1.000000      0.000000      0.000000   \n",
       "max      100.000000      3.000000      3.000000      1.000000      1.000000   \n",
       "\n",
       "             active        cardio  \n",
       "count  60108.000000  60108.000000  \n",
       "mean       0.803653      0.488238  \n",
       "std        0.397237      0.499866  \n",
       "min        0.000000      0.000000  \n",
       "25%        1.000000      0.000000  \n",
       "50%        1.000000      0.000000  \n",
       "75%        1.000000      1.000000  \n",
       "max        1.000000      1.000000  "
      ]
     },
     "execution_count": 19,
     "metadata": {},
     "output_type": "execute_result"
    }
   ],
   "source": [
    "df.describe()\n",
    "\n",
    "# We don't need any Normalisation as we have already eliminated by doing above steps"
   ]
  },
  {
   "cell_type": "markdown",
   "metadata": {},
   "source": [
    "## Feature Analysis"
   ]
  },
  {
   "cell_type": "markdown",
   "metadata": {},
   "source": [
    "### 1.Gender : 2 - Men ,1 -Women "
   ]
  },
  {
   "cell_type": "code",
   "execution_count": 20,
   "metadata": {},
   "outputs": [
    {
     "data": {
      "image/png": "[encoded data removed]",
      "text/plain": [
       "<Figure size 432x288 with 1 Axes>"
      ]
     },
     "metadata": {
      "needs_background": "light"
     },
     "output_type": "display_data"
    }
   ],
   "source": [
    "sns.countplot(x='gender', hue='cardio', data=df)\n",
    "plt.show()\n"
   ]
  },
  {
   "cell_type": "markdown",
   "metadata": {},
   "source": [
    "### 2.Cholestrol "
   ]
  },
  {
   "cell_type": "raw",
   "metadata": {},
   "source": [
    "Chol : \n",
    "    1: normal, 2: above normal, 3: well above normal\n",
    "            \n",
    "By below we can see the correlation of having high chol w.r.t having heart disease\n",
    "\n",
    "#Cardio 0: Health\n",
    "        1: Has Heart disease"
   ]
  },
  {
   "cell_type": "code",
   "execution_count": 21,
   "metadata": {},
   "outputs": [
    {
     "data": {
      "image/png": "[encoded data removed]",
      "text/plain": [
       "<Figure size 432x288 with 1 Axes>"
      ]
     },
     "metadata": {
      "needs_background": "light"
     },
     "output_type": "display_data"
    }
   ],
   "source": [
    "sns.countplot(x='cholesterol', hue='cardio', data=df)\n",
    "plt.show()"
   ]
  },
  {
   "cell_type": "markdown",
   "metadata": {},
   "source": [
    "### 3. Glucose"
   ]
  },
  {
   "cell_type": "raw",
   "metadata": {},
   "source": [
    "Glucose levels: 1 = normal, 2 = above normal, 3 = well above normal\n",
    "\n",
    "We can see another correlation between higher levels of glucose & heart disease"
   ]
  },
  {
   "cell_type": "code",
   "execution_count": 22,
   "metadata": {},
   "outputs": [
    {
     "data": {
      "image/png": "[encoded data removed]",
      "text/plain": [
       "<Figure size 432x288 with 1 Axes>"
      ]
     },
     "metadata": {
      "needs_background": "light"
     },
     "output_type": "display_data"
    }
   ],
   "source": [
    "sns.countplot(x='gluc', hue='cardio', data=df)\n",
    "plt.show()\n"
   ]
  },
  {
   "cell_type": "markdown",
   "metadata": {},
   "source": [
    "# Heat Map "
   ]
  },
  {
   "cell_type": "code",
   "execution_count": 23,
   "metadata": {},
   "outputs": [
    {
     "data": {
      "image/png": "[encoded data removed]",
      "text/plain": [
       "<Figure size 864x792 with 2 Axes>"
      ]
     },
     "metadata": {
      "needs_background": "light"
     },
     "output_type": "display_data"
    }
   ],
   "source": [
    "correlation = df.corr()\n",
    "\n",
    "plt.figure(figsize=(12, 11))\n",
    "heatmap = sns.heatmap(correlation, annot=True, linewidths=0, vmin=-1, cmap=\"RdBu_r\")\n"
   ]
  },
  {
   "cell_type": "markdown",
   "metadata": {},
   "source": [
    "## Observations:"
   ]
  },
  {
   "cell_type": "markdown",
   "metadata": {},
   "source": [
    "We can observe from above heat map ap_hi and ap_lo attributes are more important features \n",
    " (or)\n",
    "We can say that these 2 features influences the presence of cardiovascular disease."
   ]
  },
  {
   "cell_type": "markdown",
   "metadata": {},
   "source": [
    "## Data Preparation for Training and Testing Model  "
   ]
  },
  {
   "cell_type": "markdown",
   "metadata": {},
   "source": [
    "#### 1.First, we will split our 'cardio_train' dataset into x (features) and y (Target variable) components.\n"
   ]
  },
  {
   "cell_type": "code",
   "execution_count": 24,
   "metadata": {
    "scrolled": false
   },
   "outputs": [
    {
     "data": {
      "text/html": [
       "<div>\n",
       "<style scoped>\n",
       "    .dataframe tbody tr th:only-of-type {\n",
       "        vertical-align: middle;\n",
       "    }\n",
       "\n",
       "    .dataframe tbody tr th {\n",
       "        vertical-align: top;\n",
       "    }\n",
       "\n",
       "    .dataframe thead th {\n",
       "        text-align: right;\n",
       "    }\n",
       "</style>\n",
       "<table border=\"1\" class=\"dataframe\">\n",
       "  <thead>\n",
       "    <tr style=\"text-align: right;\">\n",
       "      <th></th>\n",
       "      <th>age</th>\n",
       "      <th>gender</th>\n",
       "      <th>height</th>\n",
       "      <th>weight</th>\n",
       "      <th>ap_hi</th>\n",
       "      <th>ap_lo</th>\n",
       "      <th>cholesterol</th>\n",
       "      <th>gluc</th>\n",
       "      <th>smoke</th>\n",
       "      <th>alco</th>\n",
       "      <th>active</th>\n",
       "    </tr>\n",
       "  </thead>\n",
       "  <tbody>\n",
       "    <tr>\n",
       "      <td>0</td>\n",
       "      <td>50.357290</td>\n",
       "      <td>2</td>\n",
       "      <td>168</td>\n",
       "      <td>62.0</td>\n",
       "      <td>110</td>\n",
       "      <td>80</td>\n",
       "      <td>1</td>\n",
       "      <td>1</td>\n",
       "      <td>0</td>\n",
       "      <td>0</td>\n",
       "      <td>1</td>\n",
       "    </tr>\n",
       "    <tr>\n",
       "      <td>1</td>\n",
       "      <td>55.381246</td>\n",
       "      <td>1</td>\n",
       "      <td>156</td>\n",
       "      <td>85.0</td>\n",
       "      <td>140</td>\n",
       "      <td>90</td>\n",
       "      <td>3</td>\n",
       "      <td>1</td>\n",
       "      <td>0</td>\n",
       "      <td>0</td>\n",
       "      <td>1</td>\n",
       "    </tr>\n",
       "    <tr>\n",
       "      <td>2</td>\n",
       "      <td>51.627652</td>\n",
       "      <td>1</td>\n",
       "      <td>165</td>\n",
       "      <td>64.0</td>\n",
       "      <td>130</td>\n",
       "      <td>70</td>\n",
       "      <td>3</td>\n",
       "      <td>1</td>\n",
       "      <td>0</td>\n",
       "      <td>0</td>\n",
       "      <td>0</td>\n",
       "    </tr>\n",
       "    <tr>\n",
       "      <td>3</td>\n",
       "      <td>48.249144</td>\n",
       "      <td>2</td>\n",
       "      <td>169</td>\n",
       "      <td>82.0</td>\n",
       "      <td>150</td>\n",
       "      <td>100</td>\n",
       "      <td>1</td>\n",
       "      <td>1</td>\n",
       "      <td>0</td>\n",
       "      <td>0</td>\n",
       "      <td>1</td>\n",
       "    </tr>\n",
       "    <tr>\n",
       "      <td>4</td>\n",
       "      <td>47.841205</td>\n",
       "      <td>1</td>\n",
       "      <td>156</td>\n",
       "      <td>56.0</td>\n",
       "      <td>100</td>\n",
       "      <td>60</td>\n",
       "      <td>1</td>\n",
       "      <td>1</td>\n",
       "      <td>0</td>\n",
       "      <td>0</td>\n",
       "      <td>0</td>\n",
       "    </tr>\n",
       "  </tbody>\n",
       "</table>\n",
       "</div>"
      ],
      "text/plain": [
       "         age  gender  height  weight  ap_hi  ap_lo  cholesterol  gluc  smoke  \\\n",
       "0  50.357290       2     168    62.0    110     80            1     1      0   \n",
       "1  55.381246       1     156    85.0    140     90            3     1      0   \n",
       "2  51.627652       1     165    64.0    130     70            3     1      0   \n",
       "3  48.249144       2     169    82.0    150    100            1     1      0   \n",
       "4  47.841205       1     156    56.0    100     60            1     1      0   \n",
       "\n",
       "   alco  active  \n",
       "0     0       1  \n",
       "1     0       1  \n",
       "2     0       0  \n",
       "3     0       1  \n",
       "4     0       0  "
      ]
     },
     "execution_count": 24,
     "metadata": {},
     "output_type": "execute_result"
    }
   ],
   "source": [
    "x = df.drop(['cardio'], axis=1, inplace=False) ### Only features excluding id and cardio(target variable)\n",
    "x.head()"
   ]
  },
  {
   "cell_type": "code",
   "execution_count": 25,
   "metadata": {},
   "outputs": [
    {
     "data": {
      "text/plain": [
       "0    0\n",
       "1    1\n",
       "2    1\n",
       "3    1\n",
       "4    0\n",
       "Name: cardio, dtype: int64"
      ]
     },
     "execution_count": 25,
     "metadata": {},
     "output_type": "execute_result"
    }
   ],
   "source": [
    "y=df['cardio']  ## Target Variable (Binary )\n",
    "y.head()"
   ]
  },
  {
   "cell_type": "markdown",
   "metadata": {},
   "source": [
    "#### 2.Second,we will split the data into Train and Test datasets.Here we are splitting in 80:20 (i.e, Train : Test )."
   ]
  },
  {
   "cell_type": "code",
   "execution_count": 26,
   "metadata": {},
   "outputs": [
    {
     "name": "stdout",
     "output_type": "stream",
     "text": [
      "length of X : 60108\n",
      "x_train : 48086 ,y_train : 48086 ,x_test : 12022 ,y_test : 12022\n"
     ]
    }
   ],
   "source": [
    "# Splitting the data into training & testing datasets\n",
    "from sklearn.model_selection import train_test_split\n",
    "\n",
    "x_train, x_test, y_train, y_test = train_test_split(x, y,test_size = 0.20,random_state =5)\n",
    "\n",
    "\n",
    "print('length of X :',len(x))\n",
    "print('x_train :',len(x_train),',y_train :',len(y_train),',x_test :',len(x_test),',y_test :',len(y_test))"
   ]
  },
  {
   "cell_type": "code",
   "execution_count": 27,
   "metadata": {
    "scrolled": true
   },
   "outputs": [
    {
     "data": {
      "text/html": [
       "<div>\n",
       "<style scoped>\n",
       "    .dataframe tbody tr th:only-of-type {\n",
       "        vertical-align: middle;\n",
       "    }\n",
       "\n",
       "    .dataframe tbody tr th {\n",
       "        vertical-align: top;\n",
       "    }\n",
       "\n",
       "    .dataframe thead th {\n",
       "        text-align: right;\n",
       "    }\n",
       "</style>\n",
       "<table border=\"1\" class=\"dataframe\">\n",
       "  <thead>\n",
       "    <tr style=\"text-align: right;\">\n",
       "      <th></th>\n",
       "      <th>age</th>\n",
       "      <th>gender</th>\n",
       "      <th>height</th>\n",
       "      <th>weight</th>\n",
       "      <th>ap_hi</th>\n",
       "      <th>ap_lo</th>\n",
       "      <th>cholesterol</th>\n",
       "      <th>gluc</th>\n",
       "      <th>smoke</th>\n",
       "      <th>alco</th>\n",
       "      <th>active</th>\n",
       "    </tr>\n",
       "  </thead>\n",
       "  <tbody>\n",
       "    <tr>\n",
       "      <td>46106</td>\n",
       "      <td>54.414784</td>\n",
       "      <td>2</td>\n",
       "      <td>180</td>\n",
       "      <td>78.0</td>\n",
       "      <td>110</td>\n",
       "      <td>70</td>\n",
       "      <td>1</td>\n",
       "      <td>1</td>\n",
       "      <td>0</td>\n",
       "      <td>0</td>\n",
       "      <td>1</td>\n",
       "    </tr>\n",
       "    <tr>\n",
       "      <td>16290</td>\n",
       "      <td>48.021903</td>\n",
       "      <td>2</td>\n",
       "      <td>174</td>\n",
       "      <td>88.0</td>\n",
       "      <td>130</td>\n",
       "      <td>90</td>\n",
       "      <td>1</td>\n",
       "      <td>1</td>\n",
       "      <td>0</td>\n",
       "      <td>0</td>\n",
       "      <td>0</td>\n",
       "    </tr>\n",
       "    <tr>\n",
       "      <td>63145</td>\n",
       "      <td>55.728953</td>\n",
       "      <td>1</td>\n",
       "      <td>160</td>\n",
       "      <td>80.0</td>\n",
       "      <td>120</td>\n",
       "      <td>80</td>\n",
       "      <td>1</td>\n",
       "      <td>1</td>\n",
       "      <td>0</td>\n",
       "      <td>0</td>\n",
       "      <td>1</td>\n",
       "    </tr>\n",
       "    <tr>\n",
       "      <td>38450</td>\n",
       "      <td>55.854894</td>\n",
       "      <td>2</td>\n",
       "      <td>170</td>\n",
       "      <td>85.0</td>\n",
       "      <td>120</td>\n",
       "      <td>80</td>\n",
       "      <td>1</td>\n",
       "      <td>1</td>\n",
       "      <td>0</td>\n",
       "      <td>0</td>\n",
       "      <td>1</td>\n",
       "    </tr>\n",
       "    <tr>\n",
       "      <td>63787</td>\n",
       "      <td>39.452430</td>\n",
       "      <td>2</td>\n",
       "      <td>168</td>\n",
       "      <td>65.0</td>\n",
       "      <td>140</td>\n",
       "      <td>90</td>\n",
       "      <td>1</td>\n",
       "      <td>1</td>\n",
       "      <td>0</td>\n",
       "      <td>1</td>\n",
       "      <td>1</td>\n",
       "    </tr>\n",
       "  </tbody>\n",
       "</table>\n",
       "</div>"
      ],
      "text/plain": [
       "             age  gender  height  weight  ap_hi  ap_lo  cholesterol  gluc  \\\n",
       "46106  54.414784       2     180    78.0    110     70            1     1   \n",
       "16290  48.021903       2     174    88.0    130     90            1     1   \n",
       "63145  55.728953       1     160    80.0    120     80            1     1   \n",
       "38450  55.854894       2     170    85.0    120     80            1     1   \n",
       "63787  39.452430       2     168    65.0    140     90            1     1   \n",
       "\n",
       "       smoke  alco  active  \n",
       "46106      0     0       1  \n",
       "16290      0     0       0  \n",
       "63145      0     0       1  \n",
       "38450      0     0       1  \n",
       "63787      0     1       1  "
      ]
     },
     "execution_count": 27,
     "metadata": {},
     "output_type": "execute_result"
    }
   ],
   "source": [
    "x_train.head()"
   ]
  },
  {
   "cell_type": "code",
   "execution_count": 28,
   "metadata": {
    "scrolled": true
   },
   "outputs": [
    {
     "data": {
      "text/plain": [
       "46106    0\n",
       "16290    1\n",
       "63145    0\n",
       "38450    0\n",
       "63787    1\n",
       "Name: cardio, dtype: int64"
      ]
     },
     "execution_count": 28,
     "metadata": {},
     "output_type": "execute_result"
    }
   ],
   "source": [
    "y_train.head(5)"
   ]
  },
  {
   "cell_type": "code",
   "execution_count": 29,
   "metadata": {},
   "outputs": [
    {
     "data": {
      "text/html": [
       "<div>\n",
       "<style scoped>\n",
       "    .dataframe tbody tr th:only-of-type {\n",
       "        vertical-align: middle;\n",
       "    }\n",
       "\n",
       "    .dataframe tbody tr th {\n",
       "        vertical-align: top;\n",
       "    }\n",
       "\n",
       "    .dataframe thead th {\n",
       "        text-align: right;\n",
       "    }\n",
       "</style>\n",
       "<table border=\"1\" class=\"dataframe\">\n",
       "  <thead>\n",
       "    <tr style=\"text-align: right;\">\n",
       "      <th></th>\n",
       "      <th>age</th>\n",
       "      <th>gender</th>\n",
       "      <th>height</th>\n",
       "      <th>weight</th>\n",
       "      <th>ap_hi</th>\n",
       "      <th>ap_lo</th>\n",
       "      <th>cholesterol</th>\n",
       "      <th>gluc</th>\n",
       "      <th>smoke</th>\n",
       "      <th>alco</th>\n",
       "      <th>active</th>\n",
       "    </tr>\n",
       "  </thead>\n",
       "  <tbody>\n",
       "    <tr>\n",
       "      <td>9874</td>\n",
       "      <td>53.796030</td>\n",
       "      <td>1</td>\n",
       "      <td>166</td>\n",
       "      <td>80.0</td>\n",
       "      <td>125</td>\n",
       "      <td>80</td>\n",
       "      <td>1</td>\n",
       "      <td>1</td>\n",
       "      <td>0</td>\n",
       "      <td>0</td>\n",
       "      <td>1</td>\n",
       "    </tr>\n",
       "    <tr>\n",
       "      <td>33418</td>\n",
       "      <td>53.894593</td>\n",
       "      <td>1</td>\n",
       "      <td>156</td>\n",
       "      <td>95.0</td>\n",
       "      <td>130</td>\n",
       "      <td>80</td>\n",
       "      <td>1</td>\n",
       "      <td>1</td>\n",
       "      <td>0</td>\n",
       "      <td>0</td>\n",
       "      <td>1</td>\n",
       "    </tr>\n",
       "    <tr>\n",
       "      <td>65418</td>\n",
       "      <td>55.446954</td>\n",
       "      <td>1</td>\n",
       "      <td>164</td>\n",
       "      <td>76.0</td>\n",
       "      <td>130</td>\n",
       "      <td>80</td>\n",
       "      <td>3</td>\n",
       "      <td>1</td>\n",
       "      <td>0</td>\n",
       "      <td>0</td>\n",
       "      <td>1</td>\n",
       "    </tr>\n",
       "    <tr>\n",
       "      <td>66378</td>\n",
       "      <td>41.601643</td>\n",
       "      <td>1</td>\n",
       "      <td>167</td>\n",
       "      <td>76.0</td>\n",
       "      <td>100</td>\n",
       "      <td>70</td>\n",
       "      <td>1</td>\n",
       "      <td>3</td>\n",
       "      <td>0</td>\n",
       "      <td>0</td>\n",
       "      <td>1</td>\n",
       "    </tr>\n",
       "    <tr>\n",
       "      <td>23054</td>\n",
       "      <td>40.292950</td>\n",
       "      <td>1</td>\n",
       "      <td>172</td>\n",
       "      <td>84.0</td>\n",
       "      <td>120</td>\n",
       "      <td>80</td>\n",
       "      <td>1</td>\n",
       "      <td>1</td>\n",
       "      <td>0</td>\n",
       "      <td>0</td>\n",
       "      <td>1</td>\n",
       "    </tr>\n",
       "  </tbody>\n",
       "</table>\n",
       "</div>"
      ],
      "text/plain": [
       "             age  gender  height  weight  ap_hi  ap_lo  cholesterol  gluc  \\\n",
       "9874   53.796030       1     166    80.0    125     80            1     1   \n",
       "33418  53.894593       1     156    95.0    130     80            1     1   \n",
       "65418  55.446954       1     164    76.0    130     80            3     1   \n",
       "66378  41.601643       1     167    76.0    100     70            1     3   \n",
       "23054  40.292950       1     172    84.0    120     80            1     1   \n",
       "\n",
       "       smoke  alco  active  \n",
       "9874       0     0       1  \n",
       "33418      0     0       1  \n",
       "65418      0     0       1  \n",
       "66378      0     0       1  \n",
       "23054      0     0       1  "
      ]
     },
     "execution_count": 29,
     "metadata": {},
     "output_type": "execute_result"
    }
   ],
   "source": [
    "x_test.head(5)"
   ]
  },
  {
   "cell_type": "code",
   "execution_count": 30,
   "metadata": {},
   "outputs": [
    {
     "data": {
      "text/plain": [
       "9874     1\n",
       "33418    0\n",
       "65418    1\n",
       "66378    0\n",
       "23054    1\n",
       "Name: cardio, dtype: int64"
      ]
     },
     "execution_count": 30,
     "metadata": {},
     "output_type": "execute_result"
    }
   ],
   "source": [
    "y_test.head(5)"
   ]
  },
  {
   "cell_type": "markdown",
   "metadata": {},
   "source": [
    "## Models"
   ]
  },
  {
   "cell_type": "raw",
   "metadata": {},
   "source": [
    "1.KNearestNeighbours\n",
    "2.SupportVectorMachine\n",
    "3.Naive Bayes\n",
    "4.Deep Forest(cascade)"
   ]
  },
  {
   "cell_type": "markdown",
   "metadata": {},
   "source": [
    "## 1.KNearestNeighbours"
   ]
  },
  {
   "cell_type": "code",
   "execution_count": 31,
   "metadata": {
    "scrolled": true
   },
   "outputs": [
    {
     "data": {
      "text/plain": [
       "KNeighborsClassifier(algorithm='auto', leaf_size=30, metric='minkowski',\n",
       "                     metric_params=None, n_jobs=None, n_neighbors=100, p=2,\n",
       "                     weights='uniform')"
      ]
     },
     "execution_count": 31,
     "metadata": {},
     "output_type": "execute_result"
    }
   ],
   "source": [
    "from sklearn.neighbors import KNeighborsClassifier\n",
    "knn = KNeighborsClassifier(n_neighbors=100)\n",
    "knn.fit(x_train, y_train)\n"
   ]
  },
  {
   "cell_type": "code",
   "execution_count": 32,
   "metadata": {},
   "outputs": [],
   "source": [
    "y_predicted_knn = knn.predict(x_test) ## Giving test dataset for the model to predict target variables"
   ]
  },
  {
   "cell_type": "code",
   "execution_count": 33,
   "metadata": {},
   "outputs": [
    {
     "data": {
      "text/plain": [
       "array([0, 1, 1, 0, 0, 0, 1, 0, 1, 0], dtype=int64)"
      ]
     },
     "execution_count": 33,
     "metadata": {},
     "output_type": "execute_result"
    }
   ],
   "source": [
    "y_predicted_knn[:10] "
   ]
  },
  {
   "cell_type": "code",
   "execution_count": 34,
   "metadata": {},
   "outputs": [
    {
     "data": {
      "text/plain": [
       "71.23606721011478"
      ]
     },
     "execution_count": 34,
     "metadata": {},
     "output_type": "execute_result"
    }
   ],
   "source": [
    "Accuracy = (knn.score(x_test,y_test))*100\n",
    "Accuracy"
   ]
  },
  {
   "cell_type": "code",
   "execution_count": null,
   "metadata": {},
   "outputs": [],
   "source": []
  },
  {
   "cell_type": "markdown",
   "metadata": {},
   "source": [
    "### K Fold Cross Validation "
   ]
  },
  {
   "cell_type": "raw",
   "metadata": {},
   "source": [
    "1.With K-Fold cross-validation, we obtain \"K\" pieces of results from different mini-training sets from our main training set.\n",
    "2.Then we choose the average of these results as the actual result.\n",
    "3.After all, by taking the standard deviation of K result, we can examine whether the data is consistent."
   ]
  },
  {
   "cell_type": "code",
   "execution_count": 35,
   "metadata": {
    "scrolled": true
   },
   "outputs": [
    {
     "name": "stdout",
     "output_type": "stream",
     "text": [
      "[0.71782075 0.71737548 0.71155246 0.71633566 0.70936883]\n"
     ]
    }
   ],
   "source": [
    "from sklearn.model_selection import cross_val_score\n",
    "\n",
    "accuracies_knn = cross_val_score(estimator=knn, X=x_train, y=y_train, cv=5)\n",
    "print(accuracies_knn)"
   ]
  },
  {
   "cell_type": "markdown",
   "metadata": {},
   "source": [
    "# 2.Support Vector Machine (SVM) predictor\n"
   ]
  },
  {
   "cell_type": "code",
   "execution_count": 36,
   "metadata": {},
   "outputs": [],
   "source": [
    "from sklearn.svm import SVC\n"
   ]
  },
  {
   "cell_type": "code",
   "execution_count": 37,
   "metadata": {},
   "outputs": [],
   "source": [
    "model = SVC(gamma='auto') \n"
   ]
  },
  {
   "cell_type": "code",
   "execution_count": 38,
   "metadata": {},
   "outputs": [
    {
     "data": {
      "text/plain": [
       "SVC(C=1.0, cache_size=200, class_weight=None, coef0=0.0,\n",
       "    decision_function_shape='ovr', degree=3, gamma='auto', kernel='rbf',\n",
       "    max_iter=-1, probability=False, random_state=None, shrinking=True,\n",
       "    tol=0.001, verbose=False)"
      ]
     },
     "execution_count": 38,
     "metadata": {},
     "output_type": "execute_result"
    }
   ],
   "source": [
    "model.fit(x_train,y_train)"
   ]
  },
  {
   "cell_type": "code",
   "execution_count": 39,
   "metadata": {},
   "outputs": [],
   "source": [
    "y_pred_svc = model.predict(x_test)"
   ]
  },
  {
   "cell_type": "code",
   "execution_count": 40,
   "metadata": {},
   "outputs": [
    {
     "data": {
      "text/plain": [
       "70.22126102146066"
      ]
     },
     "execution_count": 40,
     "metadata": {},
     "output_type": "execute_result"
    }
   ],
   "source": [
    "Accuracy_SVM = (model.score(x_test, y_test))*100\n",
    "Accuracy_SVM\n"
   ]
  },
  {
   "cell_type": "markdown",
   "metadata": {},
   "source": [
    "# 3.Naive Bayes Classifier"
   ]
  },
  {
   "cell_type": "code",
   "execution_count": 41,
   "metadata": {},
   "outputs": [],
   "source": [
    "from sklearn.naive_bayes import GaussianNB\n"
   ]
  },
  {
   "cell_type": "code",
   "execution_count": 42,
   "metadata": {},
   "outputs": [],
   "source": [
    "model = GaussianNB()"
   ]
  },
  {
   "cell_type": "code",
   "execution_count": 43,
   "metadata": {},
   "outputs": [
    {
     "data": {
      "text/plain": [
       "GaussianNB(priors=None, var_smoothing=1e-09)"
      ]
     },
     "execution_count": 43,
     "metadata": {},
     "output_type": "execute_result"
    }
   ],
   "source": [
    "model.fit(x_train,y_train)"
   ]
  },
  {
   "cell_type": "code",
   "execution_count": 44,
   "metadata": {},
   "outputs": [],
   "source": [
    "y_pred = model.predict(x_test)"
   ]
  },
  {
   "cell_type": "code",
   "execution_count": 45,
   "metadata": {},
   "outputs": [
    {
     "data": {
      "text/plain": [
       "array([0, 1, 1, ..., 0, 0, 0], dtype=int64)"
      ]
     },
     "execution_count": 45,
     "metadata": {},
     "output_type": "execute_result"
    }
   ],
   "source": [
    "y_pred"
   ]
  },
  {
   "cell_type": "markdown",
   "metadata": {},
   "source": [
    "### Import scikit-learn metrics module for accuracy calculation"
   ]
  },
  {
   "cell_type": "code",
   "execution_count": 46,
   "metadata": {},
   "outputs": [],
   "source": [
    "\n",
    "from sklearn import metrics"
   ]
  },
  {
   "cell_type": "markdown",
   "metadata": {},
   "source": [
    "\n",
    "### Model Accuracy, how often is the NB classifier correct?\n"
   ]
  },
  {
   "cell_type": "code",
   "execution_count": 47,
   "metadata": {},
   "outputs": [
    {
     "name": "stdout",
     "output_type": "stream",
     "text": [
      "Accuracy: 70.80352686740974\n"
     ]
    }
   ],
   "source": [
    "print(\"Accuracy:\",metrics.accuracy_score(y_test, y_pred)*100)"
   ]
  },
  {
   "cell_type": "markdown",
   "metadata": {},
   "source": [
    "# 4.Deep Forest "
   ]
  },
  {
   "cell_type": "code",
   "execution_count": 48,
   "metadata": {},
   "outputs": [],
   "source": [
    "class gcForest(object):\n",
    "\n",
    "    def __init__(self, shape_1X=None, n_mgsRFtree=30, window=None, stride=1,\n",
    "                 cascade_test_size=0.2, n_cascadeRF=2, n_cascadeRFtree=101, cascade_layer=np.inf,\n",
    "                 min_samples_mgs=0.1, min_samples_cascade=0.05, tolerance=0.0, n_jobs=1):\n",
    "        \"\"\" gcForest Classifier.\n",
    "        :param shape_1X: int or tuple list or np.array (default=None)\n",
    "            Shape of a single sample element [n_lines, n_cols]. Required when calling mg_scanning!\n",
    "            For sequence data a single int can be given.\n",
    "        :param n_mgsRFtree: int (default=30)\n",
    "            Number of trees in a Random Forest during Multi Grain Scanning.\n",
    "        :param window: int (default=None)\n",
    "            List of window sizes to use during Multi Grain Scanning.\n",
    "            If 'None' no slicing will be done.\n",
    "        :param stride: int (default=1)\n",
    "            Step used when slicing the data.\n",
    "        :param cascade_test_size: float or int (default=0.2)\n",
    "            Split fraction or absolute number for cascade training set splitting.\n",
    "        :param n_cascadeRF: int (default=2)\n",
    "            Number of Random Forests in a cascade layer.\n",
    "            For each pseudo Random Forest a complete Random Forest is created, hence\n",
    "            the total numbe of Random Forests in a layer will be 2*n_cascadeRF.\n",
    "        :param n_cascadeRFtree: int (default=101)\n",
    "            Number of trees in a single Random Forest in a cascade layer.\n",
    "        :param min_samples_mgs: float or int (default=0.1)\n",
    "            Minimum number of samples in a node to perform a split\n",
    "            during the training of Multi-Grain Scanning Random Forest.\n",
    "            If int number_of_samples = int.\n",
    "            If float, min_samples represents the fraction of the initial n_samples to consider.\n",
    "        :param min_samples_cascade: float or int (default=0.1)\n",
    "            Minimum number of samples in a node to perform a split\n",
    "            during the training of Cascade Random Forest.\n",
    "            If int number_of_samples = int.\n",
    "            If float, min_samples represents the fraction of the initial n_samples to consider.\n",
    "        :param cascade_layer: int (default=np.inf)\n",
    "            mMximum number of cascade layers allowed.\n",
    "            Useful to limit the contruction of the cascade.\n",
    "        :param tolerance: float (default=0.0)\n",
    "            Accuracy tolerance for the casacade growth.\n",
    "            If the improvement in accuracy is not better than the tolerance the construction is\n",
    "            stopped.\n",
    "        :param n_jobs: int (default=1)\n",
    "            The number of jobs to run in parallel for any Random Forest fit and predict.\n",
    "            If -1, then the number of jobs is set to the number of cores.\n",
    "        \"\"\"\n",
    "        setattr(self, 'shape_1X', shape_1X)\n",
    "        setattr(self, 'n_layer', 0)\n",
    "        setattr(self, '_n_samples', 0)\n",
    "        setattr(self, 'n_cascadeRF', int(n_cascadeRF))\n",
    "        if isinstance(window, int):\n",
    "            setattr(self, 'window', [window])\n",
    "        elif isinstance(window, list):\n",
    "            setattr(self, 'window', window)\n",
    "        setattr(self, 'stride', stride)\n",
    "        setattr(self, 'cascade_test_size', cascade_test_size)\n",
    "        setattr(self, 'n_mgsRFtree', int(n_mgsRFtree))\n",
    "        setattr(self, 'n_cascadeRFtree', int(n_cascadeRFtree))\n",
    "        setattr(self, 'cascade_layer', cascade_layer)\n",
    "        setattr(self, 'min_samples_mgs', min_samples_mgs)\n",
    "        setattr(self, 'min_samples_cascade', min_samples_cascade)\n",
    "        setattr(self, 'tolerance', tolerance)\n",
    "        setattr(self, 'n_jobs', n_jobs)\n",
    "\n",
    "    def fit(self, X, y):\n",
    "        \"\"\" Training the gcForest on input data X and associated target y.\n",
    "        :param X: np.array\n",
    "            Array containing the input samples.\n",
    "            Must be of shape [n_samples, data] where data is a 1D array.\n",
    "        :param y: np.array\n",
    "            1D array containing the target values.\n",
    "            Must be of shape [n_samples]\n",
    "        \"\"\"\n",
    "        if np.shape(X)[0] != len(y):\n",
    "            raise ValueError('Sizes of y and X do not match.')\n",
    "\n",
    "        mgs_X = self.mg_scanning(X, y)\n",
    "        _ = self.cascade_forest(mgs_X, y)\n",
    "\n",
    "    def predict_proba(self, X):\n",
    "        \"\"\" Predict the class probabilities of unknown samples X.\n",
    "        :param X: np.array\n",
    "            Array containing the input samples.\n",
    "            Must be of the same shape [n_samples, data] as the training inputs.\n",
    "        :return: np.array\n",
    "            1D array containing the predicted class probabilities for each input sample.\n",
    "        \"\"\"\n",
    "        mgs_X = self.mg_scanning(X)\n",
    "        cascade_all_pred_prob = self.cascade_forest(mgs_X)\n",
    "        predict_proba = np.mean(cascade_all_pred_prob, axis=0)\n",
    "\n",
    "        return predict_proba\n",
    "\n",
    "    def predict(self, X):\n",
    "        \"\"\" Predict the class of unknown samples X.\n",
    "        :param X: np.array\n",
    "            Array containing the input samples.\n",
    "            Must be of the same shape [n_samples, data] as the training inputs.\n",
    "        :return: np.array\n",
    "            1D array containing the predicted class for each input sample.\n",
    "        \"\"\"\n",
    "        pred_proba = self.predict_proba(X=X)\n",
    "        predictions = np.argmax(pred_proba, axis=1)\n",
    "\n",
    "        return predictions\n",
    "\n",
    "    def mg_scanning(self, X, y=None):\n",
    "        \"\"\" Performs a Multi Grain Scanning on input data.\n",
    "        :param X: np.array\n",
    "            Array containing the input samples.\n",
    "            Must be of shape [n_samples, data] where data is a 1D array.\n",
    "        :param y: np.array (default=None)\n",
    "        :return: np.array\n",
    "            Array of shape [n_samples, .. ] containing Multi Grain Scanning sliced data.\n",
    "        \"\"\"\n",
    "        setattr(self, '_n_samples', np.shape(X)[0])\n",
    "        shape_1X = getattr(self, 'shape_1X')\n",
    "        if isinstance(shape_1X, int):\n",
    "            shape_1X = [1,shape_1X]\n",
    "        if not getattr(self, 'window'):\n",
    "            setattr(self, 'window', [shape_1X[1]])\n",
    "\n",
    "        mgs_pred_prob = []\n",
    "\n",
    "        for wdw_size in getattr(self, 'window'):\n",
    "            wdw_pred_prob = self.window_slicing_pred_prob(X, wdw_size, shape_1X, y=y)\n",
    "            mgs_pred_prob.append(wdw_pred_prob)\n",
    "\n",
    "        return np.concatenate(mgs_pred_prob, axis=1)\n",
    "\n",
    "    def window_slicing_pred_prob(self, X, window, shape_1X, y=None):\n",
    "        \"\"\" Performs a window slicing of the input data and send them through Random Forests.\n",
    "        If target values 'y' are provided sliced data are then used to train the Random Forests.\n",
    "        :param X: np.array\n",
    "            Array containing the input samples.\n",
    "            Must be of shape [n_samples, data] where data is a 1D array.\n",
    "        :param window: int\n",
    "            Size of the window to use for slicing.\n",
    "        :param shape_1X: list or np.array\n",
    "            Shape of a single sample.\n",
    "        :param y: np.array (default=None)\n",
    "            Target values. If 'None' no training is done.\n",
    "        :return: np.array\n",
    "            Array of size [n_samples, ..] containing the Random Forest.\n",
    "            prediction probability for each input sample.\n",
    "        \"\"\"\n",
    "        n_tree = getattr(self, 'n_mgsRFtree')\n",
    "        min_samples = getattr(self, 'min_samples_mgs')\n",
    "        stride = getattr(self, 'stride')\n",
    "\n",
    "        if shape_1X[0] > 1:\n",
    "            print('Slicing Images...')\n",
    "            sliced_X, sliced_y = self._window_slicing_img(X, window, shape_1X, y=y, stride=stride)\n",
    "        else:\n",
    "            print('Slicing Sequence...')\n",
    "            sliced_X, sliced_y = self._window_slicing_sequence(X, window, shape_1X, y=y, stride=stride)\n",
    "\n",
    "        if y is not None:\n",
    "            n_jobs = getattr(self, 'n_jobs')\n",
    "            prf = RandomForestClassifier(n_estimators=n_tree, max_features='sqrt',\n",
    "                                         min_samples_split=min_samples, oob_score=True, n_jobs=n_jobs)\n",
    "            crf = RandomForestClassifier(n_estimators=n_tree, max_features=1,\n",
    "                                         min_samples_split=min_samples, oob_score=True, n_jobs=n_jobs)\n",
    "            print('Training MGS Random Forests...')\n",
    "            prf.fit(sliced_X, sliced_y)\n",
    "            crf.fit(sliced_X, sliced_y)\n",
    "            setattr(self, '_mgsprf_{}'.format(window), prf)\n",
    "            setattr(self, '_mgscrf_{}'.format(window), crf)\n",
    "            pred_prob_prf = prf.oob_decision_function_\n",
    "            pred_prob_crf = crf.oob_decision_function_\n",
    "\n",
    "        if hasattr(self, '_mgsprf_{}'.format(window)) and y is None:\n",
    "            prf = getattr(self, '_mgsprf_{}'.format(window))\n",
    "            crf = getattr(self, '_mgscrf_{}'.format(window))\n",
    "            pred_prob_prf = prf.predict_proba(sliced_X)\n",
    "            pred_prob_crf = crf.predict_proba(sliced_X)\n",
    "\n",
    "        pred_prob = np.c_[pred_prob_prf, pred_prob_crf]\n",
    "\n",
    "        return pred_prob.reshape([getattr(self, '_n_samples'), -1])\n",
    "\n",
    "    def _window_slicing_img(self, X, window, shape_1X, y=None, stride=1):\n",
    "        \"\"\" Slicing procedure for images\n",
    "        :param X: np.array\n",
    "            Array containing the input samples.\n",
    "            Must be of shape [n_samples, data] where data is a 1D array.\n",
    "        :param window: int\n",
    "            Size of the window to use for slicing.\n",
    "        :param shape_1X: list or np.array\n",
    "            Shape of a single sample [n_lines, n_cols].\n",
    "        :param y: np.array (default=None)\n",
    "            Target values.\n",
    "        :param stride: int (default=1)\n",
    "            Step used when slicing the data.\n",
    "        :return: np.array and np.array\n",
    "            Arrays containing the sliced images and target values (empty if 'y' is None).\n",
    "        \"\"\"\n",
    "        if any(s < window for s in shape_1X):\n",
    "            raise ValueError('window must be smaller than both dimensions for an image')\n",
    "\n",
    "        len_iter_x = np.floor_divide((shape_1X[1] - window), stride) + 1\n",
    "        len_iter_y = np.floor_divide((shape_1X[0] - window), stride) + 1\n",
    "        iterx_array = np.arange(0, stride*len_iter_x, stride)\n",
    "        itery_array = np.arange(0, stride*len_iter_y, stride)\n",
    "\n",
    "        ref_row = np.arange(0, window)\n",
    "        ref_ind = np.ravel([ref_row + shape_1X[1] * i for i in range(window)])\n",
    "        inds_to_take = [ref_ind + ix + shape_1X[1] * iy\n",
    "                        for ix, iy in itertools.product(iterx_array, itery_array)]\n",
    "\n",
    "        sliced_imgs = np.take(X, inds_to_take, axis=1).reshape(-1, window**2)\n",
    "\n",
    "        if y is not None:\n",
    "            sliced_target = np.repeat(y, len_iter_x * len_iter_y)\n",
    "        elif y is None:\n",
    "            sliced_target = None\n",
    "\n",
    "        return sliced_imgs, sliced_target\n",
    "\n",
    "    def _window_slicing_sequence(self, X, window, shape_1X, y=None, stride=1):\n",
    "        \"\"\" Slicing procedure for sequences (aka shape_1X = [.., 1]).\n",
    "        :param X: np.array\n",
    "            Array containing the input samples.\n",
    "            Must be of shape [n_samples, data] where data is a 1D array.\n",
    "        :param window: int\n",
    "            Size of the window to use for slicing.\n",
    "        :param shape_1X: list or np.array\n",
    "            Shape of a single sample [n_lines, n_col].\n",
    "        :param y: np.array (default=None)\n",
    "            Target values.\n",
    "        :param stride: int (default=1)\n",
    "            Step used when slicing the data.\n",
    "        :return: np.array and np.array\n",
    "            Arrays containing the sliced sequences and target values (empty if 'y' is None).\n",
    "        \"\"\"\n",
    "        if shape_1X[1] < window:\n",
    "            raise ValueError('window must be smaller than the sequence dimension')\n",
    "\n",
    "        len_iter = np.floor_divide((shape_1X[1] - window), stride) + 1\n",
    "        iter_array = np.arange(0, stride*len_iter, stride)\n",
    "\n",
    "        ind_1X = np.arange(np.prod(shape_1X))\n",
    "        inds_to_take = [ind_1X[i:i+window] for i in iter_array]\n",
    "        sliced_sqce = np.take(X, inds_to_take, axis=1).reshape(-1, window)\n",
    "\n",
    "        if y is not None:\n",
    "            sliced_target = np.repeat(y, len_iter)\n",
    "        elif y is None:\n",
    "            sliced_target = None\n",
    "\n",
    "        return sliced_sqce, sliced_target\n",
    "\n",
    "    def cascade_forest(self, X, y=None):\n",
    "        \"\"\" Perform (or train if 'y' is not None) a cascade forest estimator.\n",
    "        :param X: np.array\n",
    "            Array containing the input samples.\n",
    "            Must be of shape [n_samples, data] where data is a 1D array.\n",
    "        :param y: np.array (default=None)\n",
    "            Target values. If 'None' perform training.\n",
    "        :return: np.array\n",
    "            1D array containing the predicted class for each input sample.\n",
    "        \"\"\"\n",
    "        if y is not None:\n",
    "            setattr(self, 'n_layer', 0)\n",
    "            test_size = getattr(self, 'cascade_test_size')\n",
    "            max_layers = getattr(self, 'cascade_layer')\n",
    "            tol = getattr(self, 'tolerance')\n",
    "\n",
    "            X_train, X_test, y_train, y_test = train_test_split(X, y, test_size=test_size)\n",
    "\n",
    "            self.n_layer += 1\n",
    "            prf_crf_pred_ref = self._cascade_layer(X_train, y_train)\n",
    "            accuracy_ref = self._cascade_evaluation(X_test, y_test)\n",
    "            feat_arr = self._create_feat_arr(X_train, prf_crf_pred_ref)\n",
    "\n",
    "            self.n_layer += 1\n",
    "            prf_crf_pred_layer = self._cascade_layer(feat_arr, y_train)\n",
    "            accuracy_layer = self._cascade_evaluation(X_test, y_test)\n",
    "\n",
    "            while accuracy_layer > (accuracy_ref + tol) and self.n_layer <= max_layers:\n",
    "                accuracy_ref = accuracy_layer\n",
    "                prf_crf_pred_ref = prf_crf_pred_layer\n",
    "                feat_arr = self._create_feat_arr(X_train, prf_crf_pred_ref)\n",
    "                self.n_layer += 1\n",
    "                prf_crf_pred_layer = self._cascade_layer(feat_arr, y_train)\n",
    "                accuracy_layer = self._cascade_evaluation(X_test, y_test)\n",
    "\n",
    "            if accuracy_layer < accuracy_ref :\n",
    "                n_cascadeRF = getattr(self, 'n_cascadeRF')\n",
    "                for irf in range(n_cascadeRF):\n",
    "                    delattr(self, '_casprf{}_{}'.format(self.n_layer, irf))\n",
    "                    delattr(self, '_cascrf{}_{}'.format(self.n_layer, irf))\n",
    "                self.n_layer -= 1\n",
    "\n",
    "        elif y is None:\n",
    "            at_layer = 1\n",
    "            prf_crf_pred_ref = self._cascade_layer(X, layer=at_layer)\n",
    "            while at_layer < getattr(self, 'n_layer'):\n",
    "                at_layer += 1\n",
    "                feat_arr = self._create_feat_arr(X, prf_crf_pred_ref)\n",
    "                prf_crf_pred_ref = self._cascade_layer(feat_arr, layer=at_layer)\n",
    "\n",
    "        return prf_crf_pred_ref\n",
    "\n",
    "    def _cascade_layer(self, X, y=None, layer=0):\n",
    "        \"\"\" Cascade layer containing Random Forest estimators.\n",
    "        If y is not None the layer is trained.\n",
    "        :param X: np.array\n",
    "            Array containing the input samples.\n",
    "            Must be of shape [n_samples, data] where data is a 1D array.\n",
    "        :param y: np.array (default=None)\n",
    "            Target values. If 'None' perform training.\n",
    "        :param layer: int (default=0)\n",
    "            Layer indice. Used to call the previously trained layer.\n",
    "        :return: list\n",
    "            List containing the prediction probabilities for all samples.\n",
    "        \"\"\"\n",
    "        n_tree = getattr(self, 'n_cascadeRFtree')\n",
    "        n_cascadeRF = getattr(self, 'n_cascadeRF')\n",
    "        min_samples = getattr(self, 'min_samples_cascade')\n",
    "\n",
    "        n_jobs = getattr(self, 'n_jobs')\n",
    "        prf = RandomForestClassifier(n_estimators=n_tree, max_features='sqrt',\n",
    "                                     min_samples_split=min_samples, oob_score=True, n_jobs=n_jobs)\n",
    "        crf = RandomForestClassifier(n_estimators=n_tree, max_features=1,\n",
    "                                     min_samples_split=min_samples, oob_score=True, n_jobs=n_jobs)\n",
    "\n",
    "        prf_crf_pred = []\n",
    "        if y is not None:\n",
    "            print('Adding/Training Layer, n_layer={}'.format(self.n_layer))\n",
    "            for irf in range(n_cascadeRF):\n",
    "                prf.fit(X, y)\n",
    "                crf.fit(X, y)\n",
    "                setattr(self, '_casprf{}_{}'.format(self.n_layer, irf), prf)\n",
    "                setattr(self, '_cascrf{}_{}'.format(self.n_layer, irf), crf)\n",
    "                prf_crf_pred.append(prf.oob_decision_function_)\n",
    "                prf_crf_pred.append(crf.oob_decision_function_)\n",
    "        elif y is None:\n",
    "            for irf in range(n_cascadeRF):\n",
    "                prf = getattr(self, '_casprf{}_{}'.format(layer, irf))\n",
    "                crf = getattr(self, '_cascrf{}_{}'.format(layer, irf))\n",
    "                prf_crf_pred.append(prf.predict_proba(X))\n",
    "                prf_crf_pred.append(crf.predict_proba(X))\n",
    "\n",
    "        return prf_crf_pred\n",
    "\n",
    "    def _cascade_evaluation(self, X_test, y_test):\n",
    "        \"\"\" Evaluate the accuracy of the cascade using X and y.\n",
    "        :param X_test: np.array\n",
    "            Array containing the test input samples.\n",
    "            Must be of the same shape as training data.\n",
    "        :param y_test: np.array\n",
    "            Test target values.\n",
    "        :return: float\n",
    "            the cascade accuracy.\n",
    "        \"\"\"\n",
    "        casc_pred_prob = np.mean(self.cascade_forest(X_test), axis=0)\n",
    "        casc_pred = np.argmax(casc_pred_prob, axis=1)\n",
    "        casc_accuracy = accuracy_score(y_true=y_test, y_pred=casc_pred)\n",
    "        print('Layer validation accuracy = {}'.format(casc_accuracy))\n",
    "\n",
    "        return casc_accuracy\n",
    "\n",
    "    def _create_feat_arr(self, X, prf_crf_pred):\n",
    "        \"\"\" Concatenate the original feature vector with the predicition probabilities\n",
    "        of a cascade layer.\n",
    "        :param X: np.array\n",
    "            Array containing the input samples.\n",
    "            Must be of shape [n_samples, data] where data is a 1D array.\n",
    "        :param prf_crf_pred: list\n",
    "            Prediction probabilities by a cascade layer for X.\n",
    "        :return: np.array\n",
    "            Concatenation of X and the predicted probabilities.\n",
    "            To be used for the next layer in a cascade forest.\n",
    "        \"\"\"\n",
    "        swap_pred = np.swapaxes(prf_crf_pred, 0, 1)\n",
    "        add_feat = swap_pred.reshape([np.shape(X)[0], -1])\n",
    "        feat_arr = np.concatenate([add_feat, X], axis=1)\n",
    "\n",
    "        return feat_arr"
   ]
  },
  {
   "cell_type": "markdown",
   "metadata": {},
   "source": [
    "### Train Cascade Forest"
   ]
  },
  {
   "cell_type": "code",
   "execution_count": 49,
   "metadata": {},
   "outputs": [
    {
     "name": "stdout",
     "output_type": "stream",
     "text": [
      "Adding/Training Layer, n_layer=1\n",
      "Layer validation accuracy = 0.7271782075275525\n",
      "Adding/Training Layer, n_layer=2\n",
      "Layer validation accuracy = 0.7313370763152423\n",
      "Adding/Training Layer, n_layer=3\n",
      "Layer validation accuracy = 0.730817217716781\n"
     ]
    }
   ],
   "source": [
    "gcf = gcForest(n_cascadeRF=2,n_cascadeRFtree=500) #Default values tolerance =0.0 ,n_cascadeRFtree=101\n",
    "_ = gcf.cascade_forest(x_train, y_train)"
   ]
  },
  {
   "cell_type": "markdown",
   "metadata": {},
   "source": [
    "\n",
    "Note that the cascade forest module does not directly return predictions but probability predictions \n",
    "from each Random Forest in the last layer of the cascade.Hence the need to first take the mean of the output and\n",
    "then find the max.\n"
   ]
  },
  {
   "cell_type": "markdown",
   "metadata": {},
   "source": [
    "### Predict the test data"
   ]
  },
  {
   "cell_type": "code",
   "execution_count": 50,
   "metadata": {},
   "outputs": [],
   "source": [
    "\n",
    "pred_proba = gcf.cascade_forest(x_test)\n"
   ]
  },
  {
   "cell_type": "code",
   "execution_count": 51,
   "metadata": {},
   "outputs": [
    {
     "name": "stdout",
     "output_type": "stream",
     "text": [
      "[array([[0.6850151 , 0.3149849 ],\n",
      "       [0.48903201, 0.51096799],\n",
      "       [0.21796914, 0.78203086],\n",
      "       ...,\n",
      "       [0.47106423, 0.52893577],\n",
      "       [0.56334503, 0.43665497],\n",
      "       [0.63622772, 0.36377228]])]\n"
     ]
    }
   ],
   "source": [
    "\n",
    "print(pred_proba [:1])"
   ]
  },
  {
   "cell_type": "code",
   "execution_count": 52,
   "metadata": {},
   "outputs": [],
   "source": [
    "tmp = np.mean(pred_proba, axis=0)\n"
   ]
  },
  {
   "cell_type": "code",
   "execution_count": 53,
   "metadata": {},
   "outputs": [
    {
     "data": {
      "text/plain": [
       "array([[0.68898842, 0.31101158],\n",
       "       [0.46188381, 0.53811619],\n",
       "       [0.21937038, 0.78062962],\n",
       "       [0.76234871, 0.23765129],\n",
       "       [0.80481166, 0.19518834]])"
      ]
     },
     "execution_count": 53,
     "metadata": {},
     "output_type": "execute_result"
    }
   ],
   "source": [
    "tmp[:5]"
   ]
  },
  {
   "cell_type": "code",
   "execution_count": 54,
   "metadata": {},
   "outputs": [],
   "source": [
    "preds = np.argmax(tmp, axis=1)"
   ]
  },
  {
   "cell_type": "code",
   "execution_count": 55,
   "metadata": {},
   "outputs": [
    {
     "data": {
      "text/plain": [
       "array([0, 1, 0, 1, 1], dtype=int64)"
      ]
     },
     "execution_count": 55,
     "metadata": {},
     "output_type": "execute_result"
    }
   ],
   "source": [
    "preds[5:10]"
   ]
  },
  {
   "cell_type": "code",
   "execution_count": 56,
   "metadata": {
    "scrolled": true
   },
   "outputs": [
    {
     "data": {
      "text/plain": [
       "23830    0\n",
       "47635    1\n",
       "14742    1\n",
       "22775    1\n",
       "2181     1\n",
       "Name: cardio, dtype: int64"
      ]
     },
     "execution_count": 56,
     "metadata": {},
     "output_type": "execute_result"
    }
   ],
   "source": [
    "y_test[5:10]"
   ]
  },
  {
   "cell_type": "code",
   "execution_count": 57,
   "metadata": {},
   "outputs": [
    {
     "name": "stdout",
     "output_type": "stream",
     "text": [
      "Accuracy of Cascaded Random Forest is :72.45050740309432\n"
     ]
    }
   ],
   "source": [
    "print(\"Accuracy of Cascaded Random Forest is :{}\".format(accuracy_score(y_true=y_test,y_pred=preds)*100))"
   ]
  },
  {
   "cell_type": "code",
   "execution_count": null,
   "metadata": {},
   "outputs": [],
   "source": []
  },
  {
   "cell_type": "code",
   "execution_count": null,
   "metadata": {},
   "outputs": [],
   "source": []
  }
 ],
 "metadata": {
  "kernelspec": {
   "display_name": "Python 3",
   "language": "python",
   "name": "python3"
  },
  "language_info": {
   "codemirror_mode": {
    "name": "ipython",
    "version": 3
   },
   "file_extension": ".py",
   "mimetype": "text/x-python",
   "name": "python",
   "nbconvert_exporter": "python",
   "pygments_lexer": "ipython3",
   "version": "3.7.4"
  }
 },
 "nbformat": 4,
 "nbformat_minor": 2
}
